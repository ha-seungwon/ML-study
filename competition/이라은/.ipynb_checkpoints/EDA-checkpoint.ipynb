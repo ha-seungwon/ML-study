{
 "cells": [
  {
   "cell_type": "markdown",
   "id": "b8e604c4-8426-4253-a5d2-e666ef761011",
   "metadata": {},
   "source": [
    "# Dacon - 건설 기계 오일 상태 분류 AI 경진대회\n",
    "sample_submission.csv\n",
    "ID : 부여번호\n",
    "Y_LABEL : 예측한 오일 상태 유무 (0: 정상 / 1 : 이상)\n",
    "\n",
    "위와 같은 제출양식으로 제출\n",
    "생각보다 컬럼이 많고, 어려워서,,,,,,하느님,,\n"
   ]
  },
  {
   "cell_type": "code",
   "execution_count": 121,
   "id": "26db159d-bbfe-4409-a8c1-dd7f6745b0df",
   "metadata": {},
   "outputs": [],
   "source": [
    "# 데이터셋"
   ]
  },
  {
   "cell_type": "code",
   "execution_count": 2,
   "id": "8419fade-47a7-4289-96c1-1a6a5f947bbf",
   "metadata": {},
   "outputs": [
    {
     "data": {
      "text/html": [
       "<div>\n",
       "<style scoped>\n",
       "    .dataframe tbody tr th:only-of-type {\n",
       "        vertical-align: middle;\n",
       "    }\n",
       "\n",
       "    .dataframe tbody tr th {\n",
       "        vertical-align: top;\n",
       "    }\n",
       "\n",
       "    .dataframe thead th {\n",
       "        text-align: right;\n",
       "    }\n",
       "</style>\n",
       "<table border=\"1\" class=\"dataframe\">\n",
       "  <thead>\n",
       "    <tr style=\"text-align: right;\">\n",
       "      <th></th>\n",
       "      <th>ID</th>\n",
       "      <th>COMPONENT_ARBITRARY</th>\n",
       "      <th>ANONYMOUS_1</th>\n",
       "      <th>YEAR</th>\n",
       "      <th>SAMPLE_TRANSFER_DAY</th>\n",
       "      <th>ANONYMOUS_2</th>\n",
       "      <th>AG</th>\n",
       "      <th>AL</th>\n",
       "      <th>B</th>\n",
       "      <th>BA</th>\n",
       "      <th>...</th>\n",
       "      <th>U25</th>\n",
       "      <th>U20</th>\n",
       "      <th>U14</th>\n",
       "      <th>U6</th>\n",
       "      <th>U4</th>\n",
       "      <th>V</th>\n",
       "      <th>V100</th>\n",
       "      <th>V40</th>\n",
       "      <th>ZN</th>\n",
       "      <th>Y_LABEL</th>\n",
       "    </tr>\n",
       "  </thead>\n",
       "  <tbody>\n",
       "    <tr>\n",
       "      <th>0</th>\n",
       "      <td>TRAIN_00000</td>\n",
       "      <td>COMPONENT3</td>\n",
       "      <td>1486</td>\n",
       "      <td>2011</td>\n",
       "      <td>7</td>\n",
       "      <td>200</td>\n",
       "      <td>0</td>\n",
       "      <td>3</td>\n",
       "      <td>93</td>\n",
       "      <td>0</td>\n",
       "      <td>...</td>\n",
       "      <td>NaN</td>\n",
       "      <td>NaN</td>\n",
       "      <td>NaN</td>\n",
       "      <td>NaN</td>\n",
       "      <td>NaN</td>\n",
       "      <td>0</td>\n",
       "      <td>NaN</td>\n",
       "      <td>154.0</td>\n",
       "      <td>75</td>\n",
       "      <td>0</td>\n",
       "    </tr>\n",
       "    <tr>\n",
       "      <th>1</th>\n",
       "      <td>TRAIN_00001</td>\n",
       "      <td>COMPONENT2</td>\n",
       "      <td>1350</td>\n",
       "      <td>2021</td>\n",
       "      <td>51</td>\n",
       "      <td>375</td>\n",
       "      <td>0</td>\n",
       "      <td>2</td>\n",
       "      <td>19</td>\n",
       "      <td>0</td>\n",
       "      <td>...</td>\n",
       "      <td>2.0</td>\n",
       "      <td>4.0</td>\n",
       "      <td>6.0</td>\n",
       "      <td>216.0</td>\n",
       "      <td>1454.0</td>\n",
       "      <td>0</td>\n",
       "      <td>NaN</td>\n",
       "      <td>44.0</td>\n",
       "      <td>652</td>\n",
       "      <td>0</td>\n",
       "    </tr>\n",
       "    <tr>\n",
       "      <th>2</th>\n",
       "      <td>TRAIN_00002</td>\n",
       "      <td>COMPONENT2</td>\n",
       "      <td>2415</td>\n",
       "      <td>2015</td>\n",
       "      <td>2</td>\n",
       "      <td>200</td>\n",
       "      <td>0</td>\n",
       "      <td>110</td>\n",
       "      <td>1</td>\n",
       "      <td>1</td>\n",
       "      <td>...</td>\n",
       "      <td>0.0</td>\n",
       "      <td>3.0</td>\n",
       "      <td>39.0</td>\n",
       "      <td>11261.0</td>\n",
       "      <td>41081.0</td>\n",
       "      <td>0</td>\n",
       "      <td>NaN</td>\n",
       "      <td>72.6</td>\n",
       "      <td>412</td>\n",
       "      <td>1</td>\n",
       "    </tr>\n",
       "    <tr>\n",
       "      <th>3</th>\n",
       "      <td>TRAIN_00003</td>\n",
       "      <td>COMPONENT3</td>\n",
       "      <td>7389</td>\n",
       "      <td>2010</td>\n",
       "      <td>2</td>\n",
       "      <td>200</td>\n",
       "      <td>0</td>\n",
       "      <td>8</td>\n",
       "      <td>3</td>\n",
       "      <td>0</td>\n",
       "      <td>...</td>\n",
       "      <td>NaN</td>\n",
       "      <td>NaN</td>\n",
       "      <td>NaN</td>\n",
       "      <td>NaN</td>\n",
       "      <td>NaN</td>\n",
       "      <td>0</td>\n",
       "      <td>NaN</td>\n",
       "      <td>133.3</td>\n",
       "      <td>7</td>\n",
       "      <td>0</td>\n",
       "    </tr>\n",
       "    <tr>\n",
       "      <th>4</th>\n",
       "      <td>TRAIN_00004</td>\n",
       "      <td>COMPONENT3</td>\n",
       "      <td>3954</td>\n",
       "      <td>2015</td>\n",
       "      <td>4</td>\n",
       "      <td>200</td>\n",
       "      <td>0</td>\n",
       "      <td>1</td>\n",
       "      <td>157</td>\n",
       "      <td>0</td>\n",
       "      <td>...</td>\n",
       "      <td>NaN</td>\n",
       "      <td>NaN</td>\n",
       "      <td>NaN</td>\n",
       "      <td>NaN</td>\n",
       "      <td>NaN</td>\n",
       "      <td>0</td>\n",
       "      <td>NaN</td>\n",
       "      <td>133.1</td>\n",
       "      <td>128</td>\n",
       "      <td>0</td>\n",
       "    </tr>\n",
       "  </tbody>\n",
       "</table>\n",
       "<p>5 rows × 54 columns</p>\n",
       "</div>"
      ],
      "text/plain": [
       "            ID COMPONENT_ARBITRARY  ANONYMOUS_1  YEAR  SAMPLE_TRANSFER_DAY  \\\n",
       "0  TRAIN_00000          COMPONENT3         1486  2011                    7   \n",
       "1  TRAIN_00001          COMPONENT2         1350  2021                   51   \n",
       "2  TRAIN_00002          COMPONENT2         2415  2015                    2   \n",
       "3  TRAIN_00003          COMPONENT3         7389  2010                    2   \n",
       "4  TRAIN_00004          COMPONENT3         3954  2015                    4   \n",
       "\n",
       "   ANONYMOUS_2  AG   AL    B  BA  ...  U25  U20   U14       U6       U4  V  \\\n",
       "0          200   0    3   93   0  ...  NaN  NaN   NaN      NaN      NaN  0   \n",
       "1          375   0    2   19   0  ...  2.0  4.0   6.0    216.0   1454.0  0   \n",
       "2          200   0  110    1   1  ...  0.0  3.0  39.0  11261.0  41081.0  0   \n",
       "3          200   0    8    3   0  ...  NaN  NaN   NaN      NaN      NaN  0   \n",
       "4          200   0    1  157   0  ...  NaN  NaN   NaN      NaN      NaN  0   \n",
       "\n",
       "   V100    V40   ZN  Y_LABEL  \n",
       "0   NaN  154.0   75        0  \n",
       "1   NaN   44.0  652        0  \n",
       "2   NaN   72.6  412        1  \n",
       "3   NaN  133.3    7        0  \n",
       "4   NaN  133.1  128        0  \n",
       "\n",
       "[5 rows x 54 columns]"
      ]
     },
     "execution_count": 2,
     "metadata": {},
     "output_type": "execute_result"
    }
   ],
   "source": [
    "#데이터 분석 모듈\n",
    "import pandas as pd\n",
    "import numpy as np\n",
    "import random as rnd\n",
    "import warnings\n",
    "\n",
    "#시각화 모듈\n",
    "import matplotlib.pyplot as plt\n",
    "import seaborn as sns\n",
    "%matplotlib inline\n",
    "warnings.filterwarnings('ignore')\n",
    "train= pd.read_csv(\"./train.csv\")\n",
    "test=pd.read_csv(\"./test.csv\")\n",
    "train.head(5)"
   ]
  },
  {
   "cell_type": "code",
   "execution_count": 3,
   "id": "bd910d98-813d-4afc-8d16-449c09af3f71",
   "metadata": {},
   "outputs": [
    {
     "data": {
      "text/plain": [
       "ID                     0.000000\n",
       "COMPONENT_ARBITRARY    0.000000\n",
       "ANONYMOUS_1            0.000000\n",
       "YEAR                   0.000000\n",
       "SAMPLE_TRANSFER_DAY    0.000000\n",
       "ANONYMOUS_2            0.000000\n",
       "AG                     0.000000\n",
       "AL                     0.000000\n",
       "B                      0.000000\n",
       "BA                     0.000000\n",
       "BE                     0.000000\n",
       "CA                     0.000000\n",
       "CD                     0.098900\n",
       "CO                     0.000000\n",
       "CR                     0.000000\n",
       "CU                     0.000000\n",
       "FH2O                   0.724016\n",
       "FNOX                   0.724016\n",
       "FOPTIMETHGLY           0.724016\n",
       "FOXID                  0.724016\n",
       "FSO4                   0.724016\n",
       "FTBN                   0.724016\n",
       "FE                     0.000000\n",
       "FUEL                   0.724016\n",
       "H2O                    0.000000\n",
       "K                      0.163107\n",
       "LI                     0.000000\n",
       "MG                     0.000000\n",
       "MN                     0.000000\n",
       "MO                     0.000000\n",
       "NA                     0.000000\n",
       "NI                     0.000000\n",
       "P                      0.000000\n",
       "PB                     0.000000\n",
       "PQINDEX                0.000000\n",
       "S                      0.000000\n",
       "SB                     0.000000\n",
       "SI                     0.000000\n",
       "SN                     0.000000\n",
       "SOOTPERCENTAGE         0.724016\n",
       "TI                     0.000000\n",
       "U100                   0.835686\n",
       "U75                    0.835686\n",
       "U50                    0.835686\n",
       "U25                    0.835686\n",
       "U20                    0.835686\n",
       "U14                    0.849734\n",
       "U6                     0.849734\n",
       "U4                     0.849734\n",
       "V                      0.000000\n",
       "V100                   0.735793\n",
       "V40                    0.000000\n",
       "ZN                     0.000000\n",
       "Y_LABEL                0.000000\n",
       "dtype: float64"
      ]
     },
     "execution_count": 3,
     "metadata": {},
     "output_type": "execute_result"
    }
   ],
   "source": [
    "# 결측값좀 보자\n",
    "train.isnull().mean()"
   ]
  },
  {
   "cell_type": "code",
   "execution_count": 4,
   "id": "c11a5307-a6fb-47aa-b684-e416163f6d21",
   "metadata": {},
   "outputs": [
    {
     "ename": "SyntaxError",
     "evalue": "incomplete input (2795966829.py, line 2)",
     "output_type": "error",
     "traceback": [
      "\u001b[0;36m  Cell \u001b[0;32mIn [4], line 2\u001b[0;36m\u001b[0m\n\u001b[0;31m    test_stage_features = ['COMPONENT1','COMPONENT2','COMPONENT3','COMPONENT4', 'ANONYMOUS_1', 'YEAR' , 'ANONYMOUS_2', 'AG', 'CO', 'CR', 'CU', 'FE', 'H2O', 'MN', 'MO', 'NI', 'PQINDEX', 'TI', 'V', 'V40',\u001b[0m\n\u001b[0m                                                                                                                                                                                                           ^\u001b[0m\n\u001b[0;31mSyntaxError\u001b[0m\u001b[0;31m:\u001b[0m incomplete input\n"
     ]
    }
   ],
   "source": [
    "# Inference(실제 진단 환경)에 사용하는 컬럼\n",
    "test_stage_features = ['COMPONENT1','COMPONENT2','COMPONENT3','COMPONENT4', 'ANONYMOUS_1', 'YEAR' , 'ANONYMOUS_2', 'AG', 'CO', 'CR', 'CU', 'FE', 'H2O', 'MN', 'MO', 'NI', 'PQINDEX', 'TI', 'V', 'V40', "
   ]
  },
  {
   "cell_type": "code",
   "execution_count": null,
   "id": "e3a67ede-83fe-4fa1-b2dd-622d4a5a30cd",
   "metadata": {},
   "outputs": [],
   "source": []
  },
  {
   "cell_type": "markdown",
   "id": "5c7b654b-a1ac-42a9-b9d5-a7ab955fc651",
   "metadata": {},
   "source": [
    "FH2O                   0.724016\n",
    "FNOX                   0.724016\n",
    "FOPTIMETHGLY           0.724016\n",
    "FOXID                  0.724016\n",
    "FSO4                   0.724016\n",
    "FTBN                   0.724016\n",
    "FUEL                   0.724016\n",
    "SOOTPERCENTAGE         0.724016\n",
    "\n",
    "모두 같은 값으로 결측치 발생\n",
    "\n",
    "U100                   0.835686\n",
    "U75                    0.835686\n",
    "U50                    0.835686\n",
    "U25                    0.835686\n",
    "U20                    0.835686\n",
    "\n",
    "U14                    0.849734\n",
    "U6                     0.849734\n",
    "U4                     0.849734\n",
    "\n",
    "결측값이 에바잖아요"
   ]
  },
  {
   "cell_type": "code",
   "execution_count": 6,
   "id": "a90765dc-1f2f-432d-a197-934ab187c908",
   "metadata": {},
   "outputs": [],
   "source": [
    "#유일한 COMPONENT_ARBITRARY 문자형 INT로 바꿔주고 시작"
   ]
  },
  {
   "cell_type": "code",
   "execution_count": 7,
   "id": "1d9528d1-c3c2-4910-a39d-e4ba18e605a8",
   "metadata": {},
   "outputs": [
    {
     "data": {
      "text/plain": [
       "COMPONENT3    7050\n",
       "COMPONENT1    3890\n",
       "COMPONENT2    2316\n",
       "COMPONENT4     839\n",
       "Name: COMPONENT_ARBITRARY, dtype: int64"
      ]
     },
     "execution_count": 7,
     "metadata": {},
     "output_type": "execute_result"
    }
   ],
   "source": [
    "train['COMPONENT_ARBITRARY'].value_counts()"
   ]
  },
  {
   "cell_type": "code",
   "execution_count": 22,
   "id": "d7ee4564-b8da-4b2a-af3c-0c181804788a",
   "metadata": {},
   "outputs": [
    {
     "data": {
      "text/html": [
       "<style type=\"text/css\">\n",
       "#T_97f11_row0_col0, #T_97f11_row0_col1, #T_97f11_row0_col2 {\n",
       "  background-color: #c5e266;\n",
       "  color: #000000;\n",
       "}\n",
       "#T_97f11_row1_col0 {\n",
       "  background-color: #e4f266;\n",
       "  color: #000000;\n",
       "}\n",
       "#T_97f11_row1_col1 {\n",
       "  background-color: #ddee66;\n",
       "  color: #000000;\n",
       "}\n",
       "#T_97f11_row1_col2 {\n",
       "  background-color: #e3f166;\n",
       "  color: #000000;\n",
       "}\n",
       "#T_97f11_row2_col0 {\n",
       "  background-color: #89c466;\n",
       "  color: #000000;\n",
       "}\n",
       "#T_97f11_row2_col1 {\n",
       "  background-color: #7ebe66;\n",
       "  color: #000000;\n",
       "}\n",
       "#T_97f11_row2_col2 {\n",
       "  background-color: #88c366;\n",
       "  color: #000000;\n",
       "}\n",
       "#T_97f11_row3_col0, #T_97f11_row3_col1, #T_97f11_row3_col2 {\n",
       "  background-color: #ffff66;\n",
       "  color: #000000;\n",
       "}\n",
       "#T_97f11_row4_col0, #T_97f11_row4_col1, #T_97f11_row4_col2 {\n",
       "  background-color: #008066;\n",
       "  color: #f1f1f1;\n",
       "}\n",
       "</style>\n",
       "<table id=\"T_97f11\">\n",
       "  <thead>\n",
       "    <tr>\n",
       "      <th class=\"index_name level0\" >Y_LABEL</th>\n",
       "      <th id=\"T_97f11_level0_col0\" class=\"col_heading level0 col0\" >0</th>\n",
       "      <th id=\"T_97f11_level0_col1\" class=\"col_heading level0 col1\" >1</th>\n",
       "      <th id=\"T_97f11_level0_col2\" class=\"col_heading level0 col2\" >All</th>\n",
       "    </tr>\n",
       "    <tr>\n",
       "      <th class=\"index_name level0\" >COMPONENT_ARBITRARY</th>\n",
       "      <th class=\"blank col0\" >&nbsp;</th>\n",
       "      <th class=\"blank col1\" >&nbsp;</th>\n",
       "      <th class=\"blank col2\" >&nbsp;</th>\n",
       "    </tr>\n",
       "  </thead>\n",
       "  <tbody>\n",
       "    <tr>\n",
       "      <th id=\"T_97f11_level0_row0\" class=\"row_heading level0 row0\" >1</th>\n",
       "      <td id=\"T_97f11_row0_col0\" class=\"data row0 col0\" >3578</td>\n",
       "      <td id=\"T_97f11_row0_col1\" class=\"data row0 col1\" >312</td>\n",
       "      <td id=\"T_97f11_row0_col2\" class=\"data row0 col2\" >3890</td>\n",
       "    </tr>\n",
       "    <tr>\n",
       "      <th id=\"T_97f11_level0_row1\" class=\"row_heading level0 row1\" >2</th>\n",
       "      <td id=\"T_97f11_row1_col0\" class=\"data row1 col0\" >2110</td>\n",
       "      <td id=\"T_97f11_row1_col1\" class=\"data row1 col1\" >206</td>\n",
       "      <td id=\"T_97f11_row1_col2\" class=\"data row1 col2\" >2316</td>\n",
       "    </tr>\n",
       "    <tr>\n",
       "      <th id=\"T_97f11_level0_row2\" class=\"row_heading level0 row2\" >3</th>\n",
       "      <td id=\"T_97f11_row2_col0\" class=\"data row2 col0\" >6415</td>\n",
       "      <td id=\"T_97f11_row2_col1\" class=\"data row2 col1\" >635</td>\n",
       "      <td id=\"T_97f11_row2_col2\" class=\"data row2 col2\" >7050</td>\n",
       "    </tr>\n",
       "    <tr>\n",
       "      <th id=\"T_97f11_level0_row3\" class=\"row_heading level0 row3\" >4</th>\n",
       "      <td id=\"T_97f11_row3_col0\" class=\"data row3 col0\" >789</td>\n",
       "      <td id=\"T_97f11_row3_col1\" class=\"data row3 col1\" >50</td>\n",
       "      <td id=\"T_97f11_row3_col2\" class=\"data row3 col2\" >839</td>\n",
       "    </tr>\n",
       "    <tr>\n",
       "      <th id=\"T_97f11_level0_row4\" class=\"row_heading level0 row4\" >All</th>\n",
       "      <td id=\"T_97f11_row4_col0\" class=\"data row4 col0\" >12892</td>\n",
       "      <td id=\"T_97f11_row4_col1\" class=\"data row4 col1\" >1203</td>\n",
       "      <td id=\"T_97f11_row4_col2\" class=\"data row4 col2\" >14095</td>\n",
       "    </tr>\n",
       "  </tbody>\n",
       "</table>\n"
      ],
      "text/plain": [
       "<pandas.io.formats.style.Styler at 0x282aff3a0>"
      ]
     },
     "execution_count": 22,
     "metadata": {},
     "output_type": "execute_result"
    }
   ],
   "source": [
    "pd.crosstab(train['COMPONENT_ARBITRARY'], train['Y_LABEL'], margins=True).style.background_gradient(cmap='summer_r')"
   ]
  },
  {
   "cell_type": "code",
   "execution_count": 25,
   "id": "c32a0827-1fbd-4e04-8fd3-88cc9565bcaf",
   "metadata": {},
   "outputs": [
    {
     "ename": "TypeError",
     "evalue": "countplot() got multiple values for argument 'data'",
     "output_type": "error",
     "traceback": [
      "\u001b[0;31m---------------------------------------------------------------------------\u001b[0m",
      "\u001b[0;31mTypeError\u001b[0m                                 Traceback (most recent call last)",
      "Cell \u001b[0;32mIn [25], line 6\u001b[0m\n\u001b[1;32m      4\u001b[0m ax[\u001b[38;5;241m0\u001b[39m]\u001b[38;5;241m.\u001b[39mset_title(\u001b[38;5;124m'\u001b[39m\u001b[38;5;124m1~4까지 각각\u001b[39m\u001b[38;5;124m'\u001b[39m, y\u001b[38;5;241m=\u001b[39my_position)\n\u001b[1;32m      5\u001b[0m ax[\u001b[38;5;241m0\u001b[39m]\u001b[38;5;241m.\u001b[39mset_ylabel(\u001b[38;5;124m'\u001b[39m\u001b[38;5;124mCount\u001b[39m\u001b[38;5;124m'\u001b[39m)\n\u001b[0;32m----> 6\u001b[0m sns\u001b[38;5;241m.\u001b[39mcountplot(\u001b[38;5;124m'\u001b[39m\u001b[38;5;124mY_LABEL\u001b[39m\u001b[38;5;124m'\u001b[39m, hue\u001b[38;5;241m=\u001b[39m\u001b[38;5;124m'\u001b[39m\u001b[38;5;124mY_LABEL\u001b[39m\u001b[38;5;124m'\u001b[39m, data\u001b[38;5;241m=\u001b[39mtrain, ax\u001b[38;5;241m=\u001b[39max[\u001b[38;5;241m1\u001b[39m])\n\u001b[1;32m      7\u001b[0m ax[\u001b[38;5;241m1\u001b[39m]\u001b[38;5;241m.\u001b[39mset_title(\u001b[38;5;124m'\u001b[39m\u001b[38;5;124mY_LABEL: 1 or 0\u001b[39m\u001b[38;5;124m'\u001b[39m, y\u001b[38;5;241m=\u001b[39my_position)\n\u001b[1;32m      8\u001b[0m plt\u001b[38;5;241m.\u001b[39mshow()\n",
      "\u001b[0;31mTypeError\u001b[0m: countplot() got multiple values for argument 'data'"
     ]
    },
    {
     "data": {
      "image/png": "[encoded data removed]",
      "text/plain": [
       "<Figure size 1800x800 with 2 Axes>"
      ]
     },
     "metadata": {},
     "output_type": "display_data"
    }
   ],
   "source": [
    "y_position = 1.02\n",
    "f, ax = plt.subplots(1, 2, figsize=(18, 8))\n",
    "train['COMPONENT_ARBITRARY'].value_counts().plot.bar(color=['#CD7F32','#FFDF00','#D3D3D3','#000000'], ax=ax[0])\n",
    "ax[0].set_title('component', y=y_position)\n",
    "ax[0].set_ylabel('Count')\n",
    "sns.countplot('Y_LABEL', hue='Y_LABEL', data=train, ax=ax[1])\n",
    "ax[1].set_title('Y_LABEL: 1 or 0', y=y_position)\n",
    "plt.show()"
   ]
  },
  {
   "cell_type": "code",
   "execution_count": 23,
   "id": "e91713c5-73d2-4f9c-a481-799a1e74a7ec",
   "metadata": {},
   "outputs": [],
   "source": [
    "#대략 10%정도비율로 이상한게 나옴"
   ]
  },
  {
   "cell_type": "code",
   "execution_count": 8,
   "id": "7ddf2ad3-d766-463b-adb7-54664c2c7b11",
   "metadata": {},
   "outputs": [
    {
     "data": {
      "text/html": [
       "<div>\n",
       "<style scoped>\n",
       "    .dataframe tbody tr th:only-of-type {\n",
       "        vertical-align: middle;\n",
       "    }\n",
       "\n",
       "    .dataframe tbody tr th {\n",
       "        vertical-align: top;\n",
       "    }\n",
       "\n",
       "    .dataframe thead th {\n",
       "        text-align: right;\n",
       "    }\n",
       "</style>\n",
       "<table border=\"1\" class=\"dataframe\">\n",
       "  <thead>\n",
       "    <tr style=\"text-align: right;\">\n",
       "      <th></th>\n",
       "      <th>ANONYMOUS_1</th>\n",
       "      <th>YEAR</th>\n",
       "      <th>SAMPLE_TRANSFER_DAY</th>\n",
       "      <th>ANONYMOUS_2</th>\n",
       "      <th>AG</th>\n",
       "      <th>AL</th>\n",
       "      <th>B</th>\n",
       "      <th>BA</th>\n",
       "      <th>BE</th>\n",
       "      <th>CA</th>\n",
       "      <th>...</th>\n",
       "      <th>U25</th>\n",
       "      <th>U20</th>\n",
       "      <th>U14</th>\n",
       "      <th>U6</th>\n",
       "      <th>U4</th>\n",
       "      <th>V</th>\n",
       "      <th>V100</th>\n",
       "      <th>V40</th>\n",
       "      <th>ZN</th>\n",
       "      <th>Y_LABEL</th>\n",
       "    </tr>\n",
       "  </thead>\n",
       "  <tbody>\n",
       "    <tr>\n",
       "      <th>count</th>\n",
       "      <td>14095.000000</td>\n",
       "      <td>14095.000000</td>\n",
       "      <td>14095.000000</td>\n",
       "      <td>14095.000000</td>\n",
       "      <td>14095.000000</td>\n",
       "      <td>14095.000000</td>\n",
       "      <td>14095.000000</td>\n",
       "      <td>14095.000000</td>\n",
       "      <td>14095.000000</td>\n",
       "      <td>14095.000000</td>\n",
       "      <td>...</td>\n",
       "      <td>2316.000000</td>\n",
       "      <td>2316.000000</td>\n",
       "      <td>2118.000000</td>\n",
       "      <td>2118.000000</td>\n",
       "      <td>2118.000000</td>\n",
       "      <td>14095.000000</td>\n",
       "      <td>3724.000000</td>\n",
       "      <td>14095.000000</td>\n",
       "      <td>14095.000000</td>\n",
       "      <td>14095.000000</td>\n",
       "    </tr>\n",
       "    <tr>\n",
       "      <th>mean</th>\n",
       "      <td>3146.082937</td>\n",
       "      <td>2013.652501</td>\n",
       "      <td>7.600568</td>\n",
       "      <td>387.416885</td>\n",
       "      <td>0.025825</td>\n",
       "      <td>12.707698</td>\n",
       "      <td>64.026179</td>\n",
       "      <td>0.692799</td>\n",
       "      <td>0.006314</td>\n",
       "      <td>1366.757574</td>\n",
       "      <td>...</td>\n",
       "      <td>29.870898</td>\n",
       "      <td>56.063472</td>\n",
       "      <td>239.938149</td>\n",
       "      <td>5488.693107</td>\n",
       "      <td>19415.597262</td>\n",
       "      <td>0.050656</td>\n",
       "      <td>13.576230</td>\n",
       "      <td>109.355815</td>\n",
       "      <td>588.646825</td>\n",
       "      <td>0.085349</td>\n",
       "    </tr>\n",
       "    <tr>\n",
       "      <th>std</th>\n",
       "      <td>4216.089809</td>\n",
       "      <td>3.964758</td>\n",
       "      <td>11.681628</td>\n",
       "      <td>550.016073</td>\n",
       "      <td>0.171926</td>\n",
       "      <td>86.968000</td>\n",
       "      <td>102.876871</td>\n",
       "      <td>2.905491</td>\n",
       "      <td>0.152189</td>\n",
       "      <td>1481.924727</td>\n",
       "      <td>...</td>\n",
       "      <td>97.459625</td>\n",
       "      <td>184.332678</td>\n",
       "      <td>685.053457</td>\n",
       "      <td>15474.146283</td>\n",
       "      <td>40145.311444</td>\n",
       "      <td>0.475438</td>\n",
       "      <td>1.073718</td>\n",
       "      <td>49.612379</td>\n",
       "      <td>531.743393</td>\n",
       "      <td>0.279411</td>\n",
       "    </tr>\n",
       "    <tr>\n",
       "      <th>min</th>\n",
       "      <td>1000.000000</td>\n",
       "      <td>2007.000000</td>\n",
       "      <td>0.000000</td>\n",
       "      <td>200.000000</td>\n",
       "      <td>0.000000</td>\n",
       "      <td>0.000000</td>\n",
       "      <td>0.000000</td>\n",
       "      <td>0.000000</td>\n",
       "      <td>0.000000</td>\n",
       "      <td>0.000000</td>\n",
       "      <td>...</td>\n",
       "      <td>0.000000</td>\n",
       "      <td>0.000000</td>\n",
       "      <td>0.000000</td>\n",
       "      <td>15.000000</td>\n",
       "      <td>154.000000</td>\n",
       "      <td>0.000000</td>\n",
       "      <td>5.200000</td>\n",
       "      <td>2.900000</td>\n",
       "      <td>0.000000</td>\n",
       "      <td>0.000000</td>\n",
       "    </tr>\n",
       "    <tr>\n",
       "      <th>25%</th>\n",
       "      <td>1655.000000</td>\n",
       "      <td>2010.000000</td>\n",
       "      <td>3.000000</td>\n",
       "      <td>200.000000</td>\n",
       "      <td>0.000000</td>\n",
       "      <td>1.000000</td>\n",
       "      <td>3.000000</td>\n",
       "      <td>0.000000</td>\n",
       "      <td>0.000000</td>\n",
       "      <td>48.000000</td>\n",
       "      <td>...</td>\n",
       "      <td>3.000000</td>\n",
       "      <td>5.000000</td>\n",
       "      <td>22.000000</td>\n",
       "      <td>636.750000</td>\n",
       "      <td>5409.250000</td>\n",
       "      <td>0.000000</td>\n",
       "      <td>12.900000</td>\n",
       "      <td>71.800000</td>\n",
       "      <td>37.000000</td>\n",
       "      <td>0.000000</td>\n",
       "    </tr>\n",
       "    <tr>\n",
       "      <th>50%</th>\n",
       "      <td>2227.000000</td>\n",
       "      <td>2014.000000</td>\n",
       "      <td>5.000000</td>\n",
       "      <td>200.000000</td>\n",
       "      <td>0.000000</td>\n",
       "      <td>2.000000</td>\n",
       "      <td>11.000000</td>\n",
       "      <td>0.000000</td>\n",
       "      <td>0.000000</td>\n",
       "      <td>198.000000</td>\n",
       "      <td>...</td>\n",
       "      <td>7.000000</td>\n",
       "      <td>13.000000</td>\n",
       "      <td>57.000000</td>\n",
       "      <td>1753.000000</td>\n",
       "      <td>12691.500000</td>\n",
       "      <td>0.000000</td>\n",
       "      <td>13.500000</td>\n",
       "      <td>111.300000</td>\n",
       "      <td>520.000000</td>\n",
       "      <td>0.000000</td>\n",
       "    </tr>\n",
       "    <tr>\n",
       "      <th>75%</th>\n",
       "      <td>3797.000000</td>\n",
       "      <td>2017.000000</td>\n",
       "      <td>8.000000</td>\n",
       "      <td>410.000000</td>\n",
       "      <td>0.000000</td>\n",
       "      <td>4.000000</td>\n",
       "      <td>110.000000</td>\n",
       "      <td>0.000000</td>\n",
       "      <td>0.000000</td>\n",
       "      <td>2975.000000</td>\n",
       "      <td>...</td>\n",
       "      <td>23.000000</td>\n",
       "      <td>39.250000</td>\n",
       "      <td>189.000000</td>\n",
       "      <td>5517.750000</td>\n",
       "      <td>24535.750000</td>\n",
       "      <td>0.000000</td>\n",
       "      <td>14.200000</td>\n",
       "      <td>137.200000</td>\n",
       "      <td>1119.000000</td>\n",
       "      <td>0.000000</td>\n",
       "    </tr>\n",
       "    <tr>\n",
       "      <th>max</th>\n",
       "      <td>294451.000000</td>\n",
       "      <td>2022.000000</td>\n",
       "      <td>368.000000</td>\n",
       "      <td>9650.000000</td>\n",
       "      <td>3.000000</td>\n",
       "      <td>4630.000000</td>\n",
       "      <td>2051.000000</td>\n",
       "      <td>216.000000</td>\n",
       "      <td>9.000000</td>\n",
       "      <td>6609.000000</td>\n",
       "      <td>...</td>\n",
       "      <td>1651.000000</td>\n",
       "      <td>2932.000000</td>\n",
       "      <td>11296.000000</td>\n",
       "      <td>412627.000000</td>\n",
       "      <td>844421.000000</td>\n",
       "      <td>17.000000</td>\n",
       "      <td>29.900000</td>\n",
       "      <td>2840.500000</td>\n",
       "      <td>2132.000000</td>\n",
       "      <td>1.000000</td>\n",
       "    </tr>\n",
       "  </tbody>\n",
       "</table>\n",
       "<p>8 rows × 52 columns</p>\n",
       "</div>"
      ],
      "text/plain": [
       "         ANONYMOUS_1          YEAR  SAMPLE_TRANSFER_DAY   ANONYMOUS_2  \\\n",
       "count   14095.000000  14095.000000         14095.000000  14095.000000   \n",
       "mean     3146.082937   2013.652501             7.600568    387.416885   \n",
       "std      4216.089809      3.964758            11.681628    550.016073   \n",
       "min      1000.000000   2007.000000             0.000000    200.000000   \n",
       "25%      1655.000000   2010.000000             3.000000    200.000000   \n",
       "50%      2227.000000   2014.000000             5.000000    200.000000   \n",
       "75%      3797.000000   2017.000000             8.000000    410.000000   \n",
       "max    294451.000000   2022.000000           368.000000   9650.000000   \n",
       "\n",
       "                 AG            AL             B            BA            BE  \\\n",
       "count  14095.000000  14095.000000  14095.000000  14095.000000  14095.000000   \n",
       "mean       0.025825     12.707698     64.026179      0.692799      0.006314   \n",
       "std        0.171926     86.968000    102.876871      2.905491      0.152189   \n",
       "min        0.000000      0.000000      0.000000      0.000000      0.000000   \n",
       "25%        0.000000      1.000000      3.000000      0.000000      0.000000   \n",
       "50%        0.000000      2.000000     11.000000      0.000000      0.000000   \n",
       "75%        0.000000      4.000000    110.000000      0.000000      0.000000   \n",
       "max        3.000000   4630.000000   2051.000000    216.000000      9.000000   \n",
       "\n",
       "                 CA  ...          U25          U20           U14  \\\n",
       "count  14095.000000  ...  2316.000000  2316.000000   2118.000000   \n",
       "mean    1366.757574  ...    29.870898    56.063472    239.938149   \n",
       "std     1481.924727  ...    97.459625   184.332678    685.053457   \n",
       "min        0.000000  ...     0.000000     0.000000      0.000000   \n",
       "25%       48.000000  ...     3.000000     5.000000     22.000000   \n",
       "50%      198.000000  ...     7.000000    13.000000     57.000000   \n",
       "75%     2975.000000  ...    23.000000    39.250000    189.000000   \n",
       "max     6609.000000  ...  1651.000000  2932.000000  11296.000000   \n",
       "\n",
       "                  U6             U4             V         V100           V40  \\\n",
       "count    2118.000000    2118.000000  14095.000000  3724.000000  14095.000000   \n",
       "mean     5488.693107   19415.597262      0.050656    13.576230    109.355815   \n",
       "std     15474.146283   40145.311444      0.475438     1.073718     49.612379   \n",
       "min        15.000000     154.000000      0.000000     5.200000      2.900000   \n",
       "25%       636.750000    5409.250000      0.000000    12.900000     71.800000   \n",
       "50%      1753.000000   12691.500000      0.000000    13.500000    111.300000   \n",
       "75%      5517.750000   24535.750000      0.000000    14.200000    137.200000   \n",
       "max    412627.000000  844421.000000     17.000000    29.900000   2840.500000   \n",
       "\n",
       "                 ZN       Y_LABEL  \n",
       "count  14095.000000  14095.000000  \n",
       "mean     588.646825      0.085349  \n",
       "std      531.743393      0.279411  \n",
       "min        0.000000      0.000000  \n",
       "25%       37.000000      0.000000  \n",
       "50%      520.000000      0.000000  \n",
       "75%     1119.000000      0.000000  \n",
       "max     2132.000000      1.000000  \n",
       "\n",
       "[8 rows x 52 columns]"
      ]
     },
     "execution_count": 8,
     "metadata": {},
     "output_type": "execute_result"
    }
   ],
   "source": [
    "train.describe()"
   ]
  },
  {
   "cell_type": "markdown",
   "id": "4afdfc21-0df3-4063-ae88-b116321143cc",
   "metadata": {},
   "source": [
    "describe을 사용하면 수치형 데이터의 다음 통계값을 추출할 수 있습니다.\n",
    "\n",
    "count : 개수\n",
    "mean : 평균\n",
    "std : 표준 편차\n",
    "min : 최솟값\n",
    "25% : 제 1사분위값\n",
    "50% : 중앙값, 중위값\n",
    "75% : 제 3사분위값\n",
    "max : 최댓값\n",
    "범주형 데이터의 경우 include='O'를 추가하여 확인할 수 있습니다."
   ]
  },
  {
   "cell_type": "code",
   "execution_count": null,
   "id": "7b9f9b31-20ed-4798-8b6d-c5fea11645f1",
   "metadata": {},
   "outputs": [],
   "source": []
  },
  {
   "cell_type": "code",
   "execution_count": 9,
   "id": "8bb85809-14e0-4563-b598-30554d5351b6",
   "metadata": {},
   "outputs": [],
   "source": [
    "component_mapping={\"COMPONENT1\":1, \"COMPONENT2\":2, \"COMPONENT3\":3, \"COMPONENT4\":4}\n",
    "train['COMPONENT_ARBITRARY'] = train['COMPONENT_ARBITRARY'].map(component_mapping)\n",
    "test['COMPONENT_ARBITRARY'] = test['COMPONENT_ARBITRARY'].map(component_mapping)"
   ]
  },
  {
   "cell_type": "code",
   "execution_count": 11,
   "id": "e6a4952c-51fd-4966-aadd-5debfa5d09a9",
   "metadata": {},
   "outputs": [
    {
     "data": {
      "text/plain": [
       "3    7050\n",
       "1    3890\n",
       "2    2316\n",
       "4     839\n",
       "Name: COMPONENT_ARBITRARY, dtype: int64"
      ]
     },
     "execution_count": 11,
     "metadata": {},
     "output_type": "execute_result"
    }
   ],
   "source": [
    "train['COMPONENT_ARBITRARY'].value_counts()"
   ]
  },
  {
   "cell_type": "code",
   "execution_count": 12,
   "id": "6ef7c098-2ab0-4b5d-bb4a-67328d4ff23b",
   "metadata": {},
   "outputs": [
    {
     "data": {
      "text/plain": [
       "<seaborn.axisgrid.FacetGrid at 0x16b6346a0>"
      ]
     },
     "execution_count": 12,
     "metadata": {},
     "output_type": "execute_result"
    },
    {
     "data": {
      "image/png": "[encoded data removed]",
      "text/plain": [
       "<Figure size 600x300 with 2 Axes>"
      ]
     },
     "metadata": {},
     "output_type": "display_data"
    }
   ],
   "source": [
    "# 오일 샘플 진단에 따른 정상 여부\n",
    "g = sns.FacetGrid(train, col='Y_LABEL')\n",
    "# 히스토그램으로 시각화, 연령의 분포를 확인, 히스토그램 bin을 20개로 설정\n",
    "g.map(plt.hist, 'YEAR', bins=30)"
   ]
  },
  {
   "cell_type": "code",
   "execution_count": 13,
   "id": "10dd9c43-356f-43c4-b152-645d4f830103",
   "metadata": {},
   "outputs": [
    {
     "data": {
      "text/plain": [
       "<seaborn.axisgrid.FacetGrid at 0x16bf655a0>"
      ]
     },
     "execution_count": 13,
     "metadata": {},
     "output_type": "execute_result"
    },
    {
     "data": {
      "image/png": "[encoded data removed]",
      "text/plain": [
       "<Figure size 600x300 with 2 Axes>"
      ]
     },
     "metadata": {},
     "output_type": "display_data"
    }
   ],
   "source": [
    "# 년도와는 전혀 관련 없네,,,,,,,주여,,,\n",
    "# AG, AL, B, BA, BE, CA, CD, CO, CR, CU, K, LI, MG, MN, MO, NA, NI, P, PB, S, SB, SI, SN, TI, V, ZN, FUEL\n",
    "# 위의 각종 원소에 따른 정상여부 하나씩 다해보기,단위 PPM\n",
    "\n",
    "# 오일 샘플 진단에 따른 정상 여부B\n",
    "g = sns.FacetGrid(train, col='Y_LABEL')\n",
    "g.map(plt.hist, 'FE', bins=100)\n",
    "# 원소 함유에서 유의미한 결과를 도출하진 못함"
   ]
  },
  {
   "cell_type": "code",
   "execution_count": 15,
   "id": "d3f18508-1ad5-4b63-a4c6-cc22c65e9bd0",
   "metadata": {},
   "outputs": [
    {
     "data": {
      "text/plain": [
       "<seaborn.axisgrid.FacetGrid at 0x16c434790>"
      ]
     },
     "execution_count": 15,
     "metadata": {},
     "output_type": "execute_result"
    },
    {
     "data": {
      "image/png": "[encoded data removed]",
      "text/plain": [
       "<Figure size 600x300 with 2 Axes>"
      ]
     },
     "metadata": {},
     "output_type": "display_data"
    }
   ],
   "source": [
    "#Paricle count에 따른 정상여부\n",
    "#나노밀리미터의 입자가, 1ml당 몇개가 있느냐,,라는 뜻임\n",
    "#U100, U75, U50, U25, U20, U14, U6, U4\n",
    "#단위 particles/ml\n",
    "# 오일 샘플 진단에 따른 정상 여부B\n",
    "g = sns.FacetGrid(train, col='Y_LABEL')\n",
    "g.map(plt.hist, 'U100', bins=30)\n",
    "# 이것도 못찾음"
   ]
  },
  {
   "cell_type": "code",
   "execution_count": 20,
   "id": "9fd9016a-5a44-4d48-aabc-e891c48d8fa5",
   "metadata": {},
   "outputs": [
    {
     "data": {
      "image/png": "[encoded data removed]",
      "text/plain": [
       "<Figure size 900x500 with 1 Axes>"
      ]
     },
     "metadata": {},
     "output_type": "display_data"
    }
   ],
   "source": [
    "fig, ax = plt.subplots(1, 1, figsize=(9, 5))\n",
    "sns.kdeplot(train[train['Y_LABEL'] == 1]['U4'], ax=ax)\n",
    "sns.kdeplot(train[train['Y_LABEL'] == 0]['U4'], ax=ax)\n",
    "plt.legend(['Y_LABEL == 1', 'Y_LABEL == 0'])\n",
    "plt.show()\n",
    "\n",
    "# U20, U14, "
   ]
  },
  {
   "cell_type": "code",
   "execution_count": 18,
   "id": "d8f0eaff-d7b9-4e38-aaa1-395a05c30995",
   "metadata": {},
   "outputs": [
    {
     "data": {
      "text/plain": [
       "14.0       39\n",
       "9.0        36\n",
       "12.0       34\n",
       "17.0       33\n",
       "4.0        32\n",
       "           ..\n",
       "1179.0      1\n",
       "336.0       1\n",
       "1497.0      1\n",
       "302.0       1\n",
       "11296.0     1\n",
       "Name: U14, Length: 549, dtype: int64"
      ]
     },
     "execution_count": 18,
     "metadata": {},
     "output_type": "execute_result"
    }
   ],
   "source": [
    "train['U14'].value_counts()"
   ]
  },
  {
   "cell_type": "markdown",
   "id": "4eb69ef4-b2f3-4afc-98a0-433618886316",
   "metadata": {},
   "source": [
    "## Viscosity에 따른 정상여부\n",
    "# V100, V40\n",
    "g = sns.FacetGrid(train, col='Y_LABEL')\n",
    "g.map(plt.hist, 'V40', bins=30)"
   ]
  },
  {
   "cell_type": "code",
   "execution_count": 109,
   "id": "9eb97dba-a284-4fba-a201-8d0d26aba71b",
   "metadata": {},
   "outputs": [
    {
     "data": {
      "text/plain": [
       "<seaborn.axisgrid.FacetGrid at 0x2887ac8b0>"
      ]
     },
     "execution_count": 109,
     "metadata": {},
     "output_type": "execute_result"
    },
    {
     "data": {
      "image/png": "[encoded data removed]",
      "text/plain": [
       "<Figure size 600x300 with 2 Axes>"
      ]
     },
     "metadata": {},
     "output_type": "display_data"
    }
   ],
   "source": [
    "# 각종 수치에 따른 여부\n",
    "# FH2O, FNOX, FOPTIMETHGLY, FOXID, FSO4, FTBN\n",
    "g = sns.FacetGrid(train, col='Y_LABEL')\n",
    "g.map(plt.hist, 'FOPTIMETHGLY', bins=30)"
   ]
  },
  {
   "cell_type": "code",
   "execution_count": null,
   "id": "9952cc15-344e-47dd-9124-3e950b4ebe99",
   "metadata": {},
   "outputs": [],
   "source": []
  },
  {
   "cell_type": "code",
   "execution_count": null,
   "id": "fbd94996-3c7f-44a2-b14f-80b31f436ad6",
   "metadata": {},
   "outputs": [],
   "source": []
  },
  {
   "cell_type": "code",
   "execution_count": null,
   "id": "1e1107a6-5960-4d60-8f2d-64c394501359",
   "metadata": {},
   "outputs": [],
   "source": []
  },
  {
   "cell_type": "code",
   "execution_count": 113,
   "id": "0f4390f0-4eec-469a-b34e-a56895a23d20",
   "metadata": {},
   "outputs": [
    {
     "data": {
      "text/plain": [
       "((14095, 53), (14095,), (6041, 19))"
      ]
     },
     "execution_count": 113,
     "metadata": {},
     "output_type": "execute_result"
    }
   ],
   "source": [
    "#목적 변수제거\n",
    "X_train = train.drop(\"Y_LABEL\", axis=1)\n",
    "#목적 변수 역할\n",
    "Y_train = train[\"Y_LABEL\"]\n",
    "#예측 대상 데이터 셋\n",
    "X_test = test.copy()\n",
    "X_train.shape, Y_train.shape, X_test.shape"
   ]
  },
  {
   "cell_type": "code",
   "execution_count": 130,
   "id": "f4d79c13-324e-440a-9918-77d66c1915eb",
   "metadata": {},
   "outputs": [
    {
     "ename": "ModuleNotFoundError",
     "evalue": "No module named 'lightgbm'",
     "output_type": "error",
     "traceback": [
      "\u001b[0;31m---------------------------------------------------------------------------\u001b[0m",
      "\u001b[0;31mModuleNotFoundError\u001b[0m                       Traceback (most recent call last)",
      "Cell \u001b[0;32mIn [130], line 1\u001b[0m\n\u001b[0;32m----> 1\u001b[0m \u001b[38;5;28;01mimport\u001b[39;00m \u001b[38;5;21;01mlightgbm\u001b[39;00m\n",
      "\u001b[0;31mModuleNotFoundError\u001b[0m: No module named 'lightgbm'"
     ]
    }
   ],
   "source": [
    "import lightgbm"
   ]
  },
  {
   "cell_type": "code",
   "execution_count": 127,
   "id": "c6fe2921-7167-4d4e-b850-30ea67f8edf3",
   "metadata": {},
   "outputs": [
    {
     "name": "stdout",
     "output_type": "stream",
     "text": [
      "Requirement already satisfied: pip in /opt/homebrew/lib/python3.10/site-packages (22.2.2)\n",
      "Collecting pip\n",
      "  Downloading pip-22.3.1-py3-none-any.whl (2.1 MB)\n",
      "\u001b[2K     \u001b[90m━━━━━━━━━━━━━━━━━━━━━━━━━━━━━━━━━━━━━━━━\u001b[0m \u001b[32m2.1/2.1 MB\u001b[0m \u001b[31m5.4 MB/s\u001b[0m eta \u001b[36m0:00:00\u001b[0m00:01\u001b[0m00:01\u001b[0mm\n",
      "\u001b[?25hInstalling collected packages: pip\n",
      "  Attempting uninstall: pip\n",
      "    Found existing installation: pip 22.2.2\n",
      "    Uninstalling pip-22.2.2:\n",
      "      Successfully uninstalled pip-22.2.2\n",
      "Successfully installed pip-22.3.1\n"
     ]
    }
   ],
   "source": []
  },
  {
   "cell_type": "code",
   "execution_count": null,
   "id": "62d563f1-26fa-437e-bef9-c357ba632932",
   "metadata": {},
   "outputs": [],
   "source": []
  }
 ],
 "metadata": {
  "kernelspec": {
   "display_name": "Python 3 (ipykernel)",
   "language": "python",
   "name": "python3"
  },
  "language_info": {
   "codemirror_mode": {
    "name": "ipython",
    "version": 3
   },
   "file_extension": ".py",
   "mimetype": "text/x-python",
   "name": "python",
   "nbconvert_exporter": "python",
   "pygments_lexer": "ipython3",
   "version": "3.10.8"
  }
 },
 "nbformat": 4,
 "nbformat_minor": 5
}
