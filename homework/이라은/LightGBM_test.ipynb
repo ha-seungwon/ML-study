{
 "cells": [
  {
   "cell_type": "markdown",
   "id": "8ecdbc2d-38e2-4c7f-bcf6-014d363deb27",
   "metadata": {},
   "source": [
    "# LightGBM\n",
    "XGBoost보다 학습에 걸리는 시간이 훨씬 적음\n",
    "리프 중심 트리 분할 방식을 사용함 (기존의 대부분의 트리의 깊이를 효과적으로 줄기이 위해 균형 트리 분할 방식을 사용함)\n",
    "\n",
    "XGBoost 대비 장점\n",
    "- 더 빠른 학습과 예측 수행 시간\n",
    "- 더 작은 메모리 사용량\n",
    "- 카테고리형 피처의 자동 변환과 최적 분할"
   ]
  },
  {
   "cell_type": "code",
   "execution_count": 1,
   "id": "9c398ca2-3c1d-4101-9f3a-c907e44c898a",
   "metadata": {},
   "outputs": [
    {
     "name": "stdout",
     "output_type": "stream",
     "text": [
      "Requirement already satisfied: lightgbm in /Users/raeun/opt/anaconda3/lib/python3.8/site-packages (3.3.2)\n",
      "Requirement already satisfied: wheel in /Users/raeun/opt/anaconda3/lib/python3.8/site-packages (from lightgbm) (0.36.2)\n",
      "Requirement already satisfied: scikit-learn!=0.22.0 in /Users/raeun/opt/anaconda3/lib/python3.8/site-packages (from lightgbm) (1.0.2)\n",
      "Requirement already satisfied: numpy in /Users/raeun/opt/anaconda3/lib/python3.8/site-packages (from lightgbm) (1.20.1)\n",
      "Requirement already satisfied: scipy in /Users/raeun/opt/anaconda3/lib/python3.8/site-packages (from lightgbm) (1.6.2)\n",
      "Requirement already satisfied: threadpoolctl>=2.0.0 in /Users/raeun/opt/anaconda3/lib/python3.8/site-packages (from scikit-learn!=0.22.0->lightgbm) (2.1.0)\n",
      "Requirement already satisfied: joblib>=0.11 in /Users/raeun/opt/anaconda3/lib/python3.8/site-packages (from scikit-learn!=0.22.0->lightgbm) (1.0.1)\n"
     ]
    }
   ],
   "source": [
    "!pip install lightgbm"
   ]
  },
  {
   "cell_type": "markdown",
   "id": "bad3311e-32ce-4ac6-a02a-c11683d4fc2d",
   "metadata": {},
   "source": [
    "## LightGBM 하이퍼 파라미터, 튜닝 방안 정리하기"
   ]
  },
  {
   "cell_type": "markdown",
   "id": "fdbfc35a-cb6e-4f0e-8b59-cb4389b63306",
   "metadata": {},
   "source": [
    "## LightGBM 실습 - 위스콘신 유방암 예측"
   ]
  },
  {
   "cell_type": "code",
   "execution_count": 2,
   "id": "d34a4349-0e98-4801-ae60-6eef4a127bbe",
   "metadata": {},
   "outputs": [
    {
     "name": "stdout",
     "output_type": "stream",
     "text": [
      "3.2.1\n"
     ]
    }
   ],
   "source": [
    "import lightgbm\n",
    "\n",
    "print(lightgbm.__version__)"
   ]
  },
  {
   "cell_type": "code",
   "execution_count": 13,
   "id": "7b356818-4eec-4e37-aefc-6d4d0eb4bbbb",
   "metadata": {},
   "outputs": [
    {
     "name": "stdout",
     "output_type": "stream",
     "text": [
      "[1]\tvalid_0's binary_logloss: 0.600521\n",
      "Training until validation scores don't improve for 50 rounds\n",
      "[2]\tvalid_0's binary_logloss: 0.566786\n",
      "[3]\tvalid_0's binary_logloss: 0.537032\n",
      "[4]\tvalid_0's binary_logloss: 0.510051\n",
      "[5]\tvalid_0's binary_logloss: 0.484612\n",
      "[6]\tvalid_0's binary_logloss: 0.462044\n",
      "[7]\tvalid_0's binary_logloss: 0.441736\n",
      "[8]\tvalid_0's binary_logloss: 0.423503\n",
      "[9]\tvalid_0's binary_logloss: 0.404695\n",
      "[10]\tvalid_0's binary_logloss: 0.389195\n",
      "[11]\tvalid_0's binary_logloss: 0.373406\n",
      "[12]\tvalid_0's binary_logloss: 0.35902\n",
      "[13]\tvalid_0's binary_logloss: 0.347118\n",
      "[14]\tvalid_0's binary_logloss: 0.334367\n",
      "[15]\tvalid_0's binary_logloss: 0.32073\n",
      "[16]\tvalid_0's binary_logloss: 0.309168\n",
      "[17]\tvalid_0's binary_logloss: 0.298417\n",
      "[18]\tvalid_0's binary_logloss: 0.289111\n",
      "[19]\tvalid_0's binary_logloss: 0.278582\n",
      "[20]\tvalid_0's binary_logloss: 0.269638\n",
      "[21]\tvalid_0's binary_logloss: 0.26153\n",
      "[22]\tvalid_0's binary_logloss: 0.253245\n",
      "[23]\tvalid_0's binary_logloss: 0.244743\n",
      "[24]\tvalid_0's binary_logloss: 0.237909\n",
      "[25]\tvalid_0's binary_logloss: 0.231224\n",
      "[26]\tvalid_0's binary_logloss: 0.225525\n",
      "[27]\tvalid_0's binary_logloss: 0.219028\n",
      "[28]\tvalid_0's binary_logloss: 0.213339\n",
      "[29]\tvalid_0's binary_logloss: 0.208107\n",
      "[30]\tvalid_0's binary_logloss: 0.203625\n",
      "[31]\tvalid_0's binary_logloss: 0.199186\n",
      "[32]\tvalid_0's binary_logloss: 0.194821\n",
      "[33]\tvalid_0's binary_logloss: 0.189927\n",
      "[34]\tvalid_0's binary_logloss: 0.186193\n",
      "[35]\tvalid_0's binary_logloss: 0.182408\n",
      "[36]\tvalid_0's binary_logloss: 0.179275\n",
      "[37]\tvalid_0's binary_logloss: 0.17586\n",
      "[38]\tvalid_0's binary_logloss: 0.172746\n",
      "[39]\tvalid_0's binary_logloss: 0.169183\n",
      "[40]\tvalid_0's binary_logloss: 0.165679\n",
      "[41]\tvalid_0's binary_logloss: 0.163004\n",
      "[42]\tvalid_0's binary_logloss: 0.160098\n",
      "[43]\tvalid_0's binary_logloss: 0.157157\n",
      "[44]\tvalid_0's binary_logloss: 0.154814\n",
      "[45]\tvalid_0's binary_logloss: 0.152173\n",
      "[46]\tvalid_0's binary_logloss: 0.150349\n",
      "[47]\tvalid_0's binary_logloss: 0.148384\n",
      "[48]\tvalid_0's binary_logloss: 0.146682\n",
      "[49]\tvalid_0's binary_logloss: 0.144604\n",
      "[50]\tvalid_0's binary_logloss: 0.143149\n",
      "[51]\tvalid_0's binary_logloss: 0.140731\n",
      "[52]\tvalid_0's binary_logloss: 0.140404\n",
      "[53]\tvalid_0's binary_logloss: 0.13802\n",
      "[54]\tvalid_0's binary_logloss: 0.136959\n",
      "[55]\tvalid_0's binary_logloss: 0.13574\n",
      "[56]\tvalid_0's binary_logloss: 0.13436\n",
      "[57]\tvalid_0's binary_logloss: 0.133963\n",
      "[58]\tvalid_0's binary_logloss: 0.132736\n",
      "[59]\tvalid_0's binary_logloss: 0.131513\n",
      "[60]\tvalid_0's binary_logloss: 0.130675\n",
      "[61]\tvalid_0's binary_logloss: 0.127936\n",
      "[62]\tvalid_0's binary_logloss: 0.127654\n",
      "[63]\tvalid_0's binary_logloss: 0.126463\n",
      "[64]\tvalid_0's binary_logloss: 0.125679\n",
      "[65]\tvalid_0's binary_logloss: 0.125593\n",
      "[66]\tvalid_0's binary_logloss: 0.123993\n",
      "[67]\tvalid_0's binary_logloss: 0.124174\n",
      "[68]\tvalid_0's binary_logloss: 0.123866\n",
      "[69]\tvalid_0's binary_logloss: 0.122634\n",
      "[70]\tvalid_0's binary_logloss: 0.123836\n",
      "[71]\tvalid_0's binary_logloss: 0.123364\n",
      "[72]\tvalid_0's binary_logloss: 0.12086\n",
      "[73]\tvalid_0's binary_logloss: 0.120975\n",
      "[74]\tvalid_0's binary_logloss: 0.122193\n",
      "[75]\tvalid_0's binary_logloss: 0.121903\n",
      "[76]\tvalid_0's binary_logloss: 0.119887\n",
      "[77]\tvalid_0's binary_logloss: 0.1212\n",
      "[78]\tvalid_0's binary_logloss: 0.121052\n",
      "[79]\tvalid_0's binary_logloss: 0.12206\n",
      "[80]\tvalid_0's binary_logloss: 0.122289\n",
      "[81]\tvalid_0's binary_logloss: 0.120522\n",
      "[82]\tvalid_0's binary_logloss: 0.120442\n",
      "[83]\tvalid_0's binary_logloss: 0.121807\n",
      "[84]\tvalid_0's binary_logloss: 0.122099\n",
      "[85]\tvalid_0's binary_logloss: 0.122181\n",
      "[86]\tvalid_0's binary_logloss: 0.123272\n",
      "[87]\tvalid_0's binary_logloss: 0.122171\n",
      "[88]\tvalid_0's binary_logloss: 0.122612\n",
      "[89]\tvalid_0's binary_logloss: 0.122836\n",
      "[90]\tvalid_0's binary_logloss: 0.123759\n",
      "[91]\tvalid_0's binary_logloss: 0.124952\n",
      "[92]\tvalid_0's binary_logloss: 0.125208\n",
      "[93]\tvalid_0's binary_logloss: 0.12537\n",
      "[94]\tvalid_0's binary_logloss: 0.126181\n",
      "[95]\tvalid_0's binary_logloss: 0.124231\n",
      "[96]\tvalid_0's binary_logloss: 0.123489\n",
      "[97]\tvalid_0's binary_logloss: 0.12294\n",
      "[98]\tvalid_0's binary_logloss: 0.123838\n",
      "[99]\tvalid_0's binary_logloss: 0.124139\n",
      "[100]\tvalid_0's binary_logloss: 0.12565\n",
      "[101]\tvalid_0's binary_logloss: 0.126143\n",
      "[102]\tvalid_0's binary_logloss: 0.125805\n",
      "[103]\tvalid_0's binary_logloss: 0.127183\n",
      "[104]\tvalid_0's binary_logloss: 0.126765\n",
      "[105]\tvalid_0's binary_logloss: 0.127742\n",
      "[106]\tvalid_0's binary_logloss: 0.125535\n",
      "[107]\tvalid_0's binary_logloss: 0.126057\n",
      "[108]\tvalid_0's binary_logloss: 0.127651\n",
      "[109]\tvalid_0's binary_logloss: 0.127838\n",
      "[110]\tvalid_0's binary_logloss: 0.128157\n",
      "[111]\tvalid_0's binary_logloss: 0.128531\n",
      "[112]\tvalid_0's binary_logloss: 0.12727\n",
      "[113]\tvalid_0's binary_logloss: 0.127671\n",
      "[114]\tvalid_0's binary_logloss: 0.126925\n",
      "[115]\tvalid_0's binary_logloss: 0.128034\n",
      "[116]\tvalid_0's binary_logloss: 0.128492\n",
      "[117]\tvalid_0's binary_logloss: 0.127892\n",
      "[118]\tvalid_0's binary_logloss: 0.129497\n",
      "[119]\tvalid_0's binary_logloss: 0.129023\n",
      "[120]\tvalid_0's binary_logloss: 0.130155\n",
      "[121]\tvalid_0's binary_logloss: 0.130459\n",
      "[122]\tvalid_0's binary_logloss: 0.129275\n",
      "[123]\tvalid_0's binary_logloss: 0.129778\n",
      "[124]\tvalid_0's binary_logloss: 0.129889\n",
      "[125]\tvalid_0's binary_logloss: 0.128843\n",
      "[126]\tvalid_0's binary_logloss: 0.130328\n",
      "Early stopping, best iteration is:\n",
      "[76]\tvalid_0's binary_logloss: 0.119887\n"
     ]
    }
   ],
   "source": [
    "# LightGBM의 파이썬 패키지인 lightgbm에서 LGBMClassifier 임포트\n",
    "from lightgbm import LGBMClassifier\n",
    "\n",
    "import pandas as pd\n",
    "import numpy as np\n",
    "from sklearn.datasets import load_breast_cancer\n",
    "from sklearn.model_selection import train_test_split\n",
    "\n",
    "dataset = load_breast_cancer()\n",
    "ftr = dataset.data\n",
    "target = dataset.target\n",
    "\n",
    "# 전체 데이터 중 80%는 학습용 데이터, 20%는 테스트용 데이터 추출\n",
    "X_train, X_test, y_train, y_test=train_test_split(ftr, target, test_size=0.2, random_state=156 )\n",
    "\n",
    "# 위에서 만든 X_train, y_train을 다시 쪼개서 90%는 학습, 10%는 검증용 데이터로 분리\n",
    "X_tr, X_val, y_tr, y_val = train_test_split(X_train, y_train, test_size=0.1, random_state=156)\n",
    "# 앞서 XGBoost와 동일하게 n_estimators는 400 설정. \n",
    "lgbm_wrapper = LGBMClassifier(n_estimators=400, learning_rate=0.05)\n",
    "\n",
    "# LightGBM도 XGBoost와 동일하게 조기 중단 수행 가능. \n",
    "evals = [(X_test, y_test)]\n",
    "lgbm_wrapper.fit(X_train, y_train, early_stopping_rounds=50, eval_metric=\"logloss\", \n",
    "                 eval_set=evals, verbose=True)\n",
    "preds = lgbm_wrapper.predict(X_test)\n",
    "pred_proba = lgbm_wrapper.predict_proba(X_test)[:,1]"
   ]
  },
  {
   "cell_type": "code",
   "execution_count": 16,
   "id": "cc944ab8-d6eb-4a07-b150-c723e045c513",
   "metadata": {},
   "outputs": [],
   "source": [
    "from sklearn.metrics import confusion_matrix, accuracy_score\n",
    "from sklearn.metrics import precision_score, recall_score\n",
    "from sklearn.metrics import f1_score, roc_auc_score\n",
    "\n",
    "def get_clf_eval(y_test , pred):\n",
    "    confusion = confusion_matrix( y_test, pred)\n",
    "    accuracy = accuracy_score(y_test , pred)\n",
    "    precision = precision_score(y_test , pred)\n",
    "    recall = recall_score(y_test , pred)\n",
    "    f1 = f1_score(y_test,pred)\n",
    "    roc_auc = roc_auc_score(y_test, pred)\n",
    "    print('오차 행렬')\n",
    "    print(confusion)\n",
    "    print('정확도: {0:.4f}, 정밀도: {1:.4f}, 재현율: {2:.4f},\\\n",
    "    F1: {3:.4f}, AUC:{4:.4f}'.format(accuracy, precision, recall, f1, roc_auc))"
   ]
  },
  {
   "cell_type": "code",
   "execution_count": 19,
   "id": "b5b008f1-ad29-4c1a-ba9f-cd63e005ec97",
   "metadata": {},
   "outputs": [
    {
     "name": "stdout",
     "output_type": "stream",
     "text": [
      "오차 행렬\n",
      "[[33  4]\n",
      " [ 1 76]]\n",
      "정확도: 0.9561, 정밀도: 0.9500, 재현율: 0.9870,    F1: 0.9682, AUC:0.9395\n"
     ]
    }
   ],
   "source": [
    "get_clf_eval(y_test, preds)"
   ]
  },
  {
   "cell_type": "code",
   "execution_count": 21,
   "id": "e7c5bc19-a881-42c9-aa1c-de93414ca4bc",
   "metadata": {},
   "outputs": [
    {
     "data": {
      "text/plain": [
       "<AxesSubplot:title={'center':'Feature importance'}, xlabel='Feature importance', ylabel='Features'>"
      ]
     },
     "execution_count": 21,
     "metadata": {},
     "output_type": "execute_result"
    },
    {
     "data": {
      "image/png": "[encoded data removed]",
      "text/plain": [
       "<Figure size 720x864 with 1 Axes>"
      ]
     },
     "metadata": {
      "needs_background": "light"
     },
     "output_type": "display_data"
    }
   ],
   "source": [
    "# plot_importance( )를 이용하여 feature 중요도 시각화\n",
    "from lightgbm import plot_importance\n",
    "import matplotlib.pyplot as plt\n",
    "%matplotlib inline\n",
    "\n",
    "fig, ax = plt.subplots(figsize=(10, 12))\n",
    "plot_importance(lgbm_wrapper, ax=ax)"
   ]
  },
  {
   "cell_type": "code",
   "execution_count": null,
   "id": "87f71184-a1e8-4670-b234-e50de19eebe3",
   "metadata": {},
   "outputs": [],
   "source": []
  }
 ],
 "metadata": {
  "kernelspec": {
   "display_name": "Python 3",
   "language": "python",
   "name": "python3"
  },
  "language_info": {
   "codemirror_mode": {
    "name": "ipython",
    "version": 3
   },
   "file_extension": ".py",
   "mimetype": "text/x-python",
   "name": "python",
   "nbconvert_exporter": "python",
   "pygments_lexer": "ipython3",
   "version": "3.8.8"
  }
 },
 "nbformat": 4,
 "nbformat_minor": 5
}
