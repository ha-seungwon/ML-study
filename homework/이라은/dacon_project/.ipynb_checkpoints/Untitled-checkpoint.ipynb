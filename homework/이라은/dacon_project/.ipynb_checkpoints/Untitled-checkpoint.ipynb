{
 "cells": [
  {
   "cell_type": "markdown",
   "id": "b8e604c4-8426-4253-a5d2-e666ef761011",
   "metadata": {},
   "source": [
    "# Dacon - 건설 기계 오일 상태 분류 AI 경진대회\n",
    "sample_submission.csv\n",
    "ID : 부여번호\n",
    "Y_LABEL : 예측한 오일 상태 유무 (0: 정상 / 1 : 이상)\n",
    "\n",
    "위와 같은 제출양식으로 제출\n",
    "생각보다 컬럼이 많고, 어려워서,,,,,,하느님,,\n"
   ]
  },
  {
   "cell_type": "code",
   "execution_count": 1,
   "id": "26db159d-bbfe-4409-a8c1-dd7f6745b0df",
   "metadata": {},
   "outputs": [],
   "source": [
    "# 데이터셋"
   ]
  },
  {
   "cell_type": "code",
   "execution_count": 3,
   "id": "8419fade-47a7-4289-96c1-1a6a5f947bbf",
   "metadata": {},
   "outputs": [
    {
     "data": {
      "text/html": [
       "<div>\n",
       "<style scoped>\n",
       "    .dataframe tbody tr th:only-of-type {\n",
       "        vertical-align: middle;\n",
       "    }\n",
       "\n",
       "    .dataframe tbody tr th {\n",
       "        vertical-align: top;\n",
       "    }\n",
       "\n",
       "    .dataframe thead th {\n",
       "        text-align: right;\n",
       "    }\n",
       "</style>\n",
       "<table border=\"1\" class=\"dataframe\">\n",
       "  <thead>\n",
       "    <tr style=\"text-align: right;\">\n",
       "      <th></th>\n",
       "      <th>ID</th>\n",
       "      <th>COMPONENT_ARBITRARY</th>\n",
       "      <th>ANONYMOUS_1</th>\n",
       "      <th>YEAR</th>\n",
       "      <th>SAMPLE_TRANSFER_DAY</th>\n",
       "      <th>ANONYMOUS_2</th>\n",
       "      <th>AG</th>\n",
       "      <th>AL</th>\n",
       "      <th>B</th>\n",
       "      <th>BA</th>\n",
       "      <th>...</th>\n",
       "      <th>U25</th>\n",
       "      <th>U20</th>\n",
       "      <th>U14</th>\n",
       "      <th>U6</th>\n",
       "      <th>U4</th>\n",
       "      <th>V</th>\n",
       "      <th>V100</th>\n",
       "      <th>V40</th>\n",
       "      <th>ZN</th>\n",
       "      <th>Y_LABEL</th>\n",
       "    </tr>\n",
       "  </thead>\n",
       "  <tbody>\n",
       "    <tr>\n",
       "      <th>0</th>\n",
       "      <td>TRAIN_00000</td>\n",
       "      <td>COMPONENT3</td>\n",
       "      <td>1486</td>\n",
       "      <td>2011</td>\n",
       "      <td>7</td>\n",
       "      <td>200</td>\n",
       "      <td>0</td>\n",
       "      <td>3</td>\n",
       "      <td>93</td>\n",
       "      <td>0</td>\n",
       "      <td>...</td>\n",
       "      <td>NaN</td>\n",
       "      <td>NaN</td>\n",
       "      <td>NaN</td>\n",
       "      <td>NaN</td>\n",
       "      <td>NaN</td>\n",
       "      <td>0</td>\n",
       "      <td>NaN</td>\n",
       "      <td>154.0</td>\n",
       "      <td>75</td>\n",
       "      <td>0</td>\n",
       "    </tr>\n",
       "    <tr>\n",
       "      <th>1</th>\n",
       "      <td>TRAIN_00001</td>\n",
       "      <td>COMPONENT2</td>\n",
       "      <td>1350</td>\n",
       "      <td>2021</td>\n",
       "      <td>51</td>\n",
       "      <td>375</td>\n",
       "      <td>0</td>\n",
       "      <td>2</td>\n",
       "      <td>19</td>\n",
       "      <td>0</td>\n",
       "      <td>...</td>\n",
       "      <td>2.0</td>\n",
       "      <td>4.0</td>\n",
       "      <td>6.0</td>\n",
       "      <td>216.0</td>\n",
       "      <td>1454.0</td>\n",
       "      <td>0</td>\n",
       "      <td>NaN</td>\n",
       "      <td>44.0</td>\n",
       "      <td>652</td>\n",
       "      <td>0</td>\n",
       "    </tr>\n",
       "    <tr>\n",
       "      <th>2</th>\n",
       "      <td>TRAIN_00002</td>\n",
       "      <td>COMPONENT2</td>\n",
       "      <td>2415</td>\n",
       "      <td>2015</td>\n",
       "      <td>2</td>\n",
       "      <td>200</td>\n",
       "      <td>0</td>\n",
       "      <td>110</td>\n",
       "      <td>1</td>\n",
       "      <td>1</td>\n",
       "      <td>...</td>\n",
       "      <td>0.0</td>\n",
       "      <td>3.0</td>\n",
       "      <td>39.0</td>\n",
       "      <td>11261.0</td>\n",
       "      <td>41081.0</td>\n",
       "      <td>0</td>\n",
       "      <td>NaN</td>\n",
       "      <td>72.6</td>\n",
       "      <td>412</td>\n",
       "      <td>1</td>\n",
       "    </tr>\n",
       "    <tr>\n",
       "      <th>3</th>\n",
       "      <td>TRAIN_00003</td>\n",
       "      <td>COMPONENT3</td>\n",
       "      <td>7389</td>\n",
       "      <td>2010</td>\n",
       "      <td>2</td>\n",
       "      <td>200</td>\n",
       "      <td>0</td>\n",
       "      <td>8</td>\n",
       "      <td>3</td>\n",
       "      <td>0</td>\n",
       "      <td>...</td>\n",
       "      <td>NaN</td>\n",
       "      <td>NaN</td>\n",
       "      <td>NaN</td>\n",
       "      <td>NaN</td>\n",
       "      <td>NaN</td>\n",
       "      <td>0</td>\n",
       "      <td>NaN</td>\n",
       "      <td>133.3</td>\n",
       "      <td>7</td>\n",
       "      <td>0</td>\n",
       "    </tr>\n",
       "    <tr>\n",
       "      <th>4</th>\n",
       "      <td>TRAIN_00004</td>\n",
       "      <td>COMPONENT3</td>\n",
       "      <td>3954</td>\n",
       "      <td>2015</td>\n",
       "      <td>4</td>\n",
       "      <td>200</td>\n",
       "      <td>0</td>\n",
       "      <td>1</td>\n",
       "      <td>157</td>\n",
       "      <td>0</td>\n",
       "      <td>...</td>\n",
       "      <td>NaN</td>\n",
       "      <td>NaN</td>\n",
       "      <td>NaN</td>\n",
       "      <td>NaN</td>\n",
       "      <td>NaN</td>\n",
       "      <td>0</td>\n",
       "      <td>NaN</td>\n",
       "      <td>133.1</td>\n",
       "      <td>128</td>\n",
       "      <td>0</td>\n",
       "    </tr>\n",
       "  </tbody>\n",
       "</table>\n",
       "<p>5 rows × 54 columns</p>\n",
       "</div>"
      ],
      "text/plain": [
       "            ID COMPONENT_ARBITRARY  ANONYMOUS_1  YEAR  SAMPLE_TRANSFER_DAY  \\\n",
       "0  TRAIN_00000          COMPONENT3         1486  2011                    7   \n",
       "1  TRAIN_00001          COMPONENT2         1350  2021                   51   \n",
       "2  TRAIN_00002          COMPONENT2         2415  2015                    2   \n",
       "3  TRAIN_00003          COMPONENT3         7389  2010                    2   \n",
       "4  TRAIN_00004          COMPONENT3         3954  2015                    4   \n",
       "\n",
       "   ANONYMOUS_2  AG   AL    B  BA  ...  U25  U20   U14       U6       U4  V  \\\n",
       "0          200   0    3   93   0  ...  NaN  NaN   NaN      NaN      NaN  0   \n",
       "1          375   0    2   19   0  ...  2.0  4.0   6.0    216.0   1454.0  0   \n",
       "2          200   0  110    1   1  ...  0.0  3.0  39.0  11261.0  41081.0  0   \n",
       "3          200   0    8    3   0  ...  NaN  NaN   NaN      NaN      NaN  0   \n",
       "4          200   0    1  157   0  ...  NaN  NaN   NaN      NaN      NaN  0   \n",
       "\n",
       "   V100    V40   ZN  Y_LABEL  \n",
       "0   NaN  154.0   75        0  \n",
       "1   NaN   44.0  652        0  \n",
       "2   NaN   72.6  412        1  \n",
       "3   NaN  133.3    7        0  \n",
       "4   NaN  133.1  128        0  \n",
       "\n",
       "[5 rows x 54 columns]"
      ]
     },
     "execution_count": 3,
     "metadata": {},
     "output_type": "execute_result"
    }
   ],
   "source": [
    "#데이터 분석 모듈\n",
    "import pandas as pd\n",
    "import numpy as np\n",
    "import random as rnd\n",
    "import warnings\n",
    "\n",
    "#시각화 모듈\n",
    "import matplotlib.pyplot as plt\n",
    "import seaborn as sns\n",
    "%matplotlib inline\n",
    "warnings.filterwarnings('ignore')\n",
    "train= pd.read_csv(\"./train.csv\")\n",
    "test=pd.read_csv(\"./test.csv\")\n",
    "train.head(5)"
   ]
  },
  {
   "cell_type": "code",
   "execution_count": 32,
   "id": "bd910d98-813d-4afc-8d16-449c09af3f71",
   "metadata": {},
   "outputs": [
    {
     "data": {
      "text/plain": [
       "ID                     0.000000\n",
       "COMPONENT_ARBITRARY    0.000000\n",
       "ANONYMOUS_1            0.000000\n",
       "YEAR                   0.000000\n",
       "SAMPLE_TRANSFER_DAY    0.000000\n",
       "ANONYMOUS_2            0.000000\n",
       "AG                     0.000000\n",
       "AL                     0.000000\n",
       "B                      0.000000\n",
       "BA                     0.000000\n",
       "BE                     0.000000\n",
       "CA                     0.000000\n",
       "CD                     0.098900\n",
       "CO                     0.000000\n",
       "CR                     0.000000\n",
       "CU                     0.000000\n",
       "FH2O                   0.724016\n",
       "FNOX                   0.724016\n",
       "FOPTIMETHGLY           0.724016\n",
       "FOXID                  0.724016\n",
       "FSO4                   0.724016\n",
       "FTBN                   0.724016\n",
       "FE                     0.000000\n",
       "FUEL                   0.724016\n",
       "H2O                    0.000000\n",
       "K                      0.163107\n",
       "LI                     0.000000\n",
       "MG                     0.000000\n",
       "MN                     0.000000\n",
       "MO                     0.000000\n",
       "NA                     0.000000\n",
       "NI                     0.000000\n",
       "P                      0.000000\n",
       "PB                     0.000000\n",
       "PQINDEX                0.000000\n",
       "S                      0.000000\n",
       "SB                     0.000000\n",
       "SI                     0.000000\n",
       "SN                     0.000000\n",
       "SOOTPERCENTAGE         0.724016\n",
       "TI                     0.000000\n",
       "U100                   0.835686\n",
       "U75                    0.835686\n",
       "U50                    0.835686\n",
       "U25                    0.835686\n",
       "U20                    0.835686\n",
       "U14                    0.849734\n",
       "U6                     0.849734\n",
       "U4                     0.849734\n",
       "V                      0.000000\n",
       "V100                   0.735793\n",
       "V40                    0.000000\n",
       "ZN                     0.000000\n",
       "Y_LABEL                0.000000\n",
       "dtype: float64"
      ]
     },
     "execution_count": 32,
     "metadata": {},
     "output_type": "execute_result"
    }
   ],
   "source": [
    "# 결측값좀 보자\n",
    "train.isnull().mean()"
   ]
  },
  {
   "cell_type": "markdown",
   "id": "5c7b654b-a1ac-42a9-b9d5-a7ab955fc651",
   "metadata": {},
   "source": [
    "FH2O                   0.724016\n",
    "FNOX                   0.724016\n",
    "FOPTIMETHGLY           0.724016\n",
    "FOXID                  0.724016\n",
    "FSO4                   0.724016\n",
    "FTBN                   0.724016\n",
    "FUEL                   0.724016\n",
    "SOOTPERCENTAGE         0.724016\n",
    "\n",
    "모두 같은 값으로 결측치 발생\n",
    "\n",
    "U100                   0.835686\n",
    "U75                    0.835686\n",
    "U50                    0.835686\n",
    "U25                    0.835686\n",
    "U20                    0.835686\n",
    "\n",
    "U14                    0.849734\n",
    "U6                     0.849734\n",
    "U4                     0.849734\n",
    "\n",
    "결측값이 에바잖아요"
   ]
  },
  {
   "cell_type": "code",
   "execution_count": 33,
   "id": "a90765dc-1f2f-432d-a197-934ab187c908",
   "metadata": {},
   "outputs": [],
   "source": [
    "#유일한 COMPONENT_ARBITRARY 문자형 INT로 바꿔주고 시작"
   ]
  },
  {
   "cell_type": "code",
   "execution_count": 34,
   "id": "1d9528d1-c3c2-4910-a39d-e4ba18e605a8",
   "metadata": {},
   "outputs": [
    {
     "data": {
      "text/plain": [
       "COMPONENT3    7050\n",
       "COMPONENT1    3890\n",
       "COMPONENT2    2316\n",
       "COMPONENT4     839\n",
       "Name: COMPONENT_ARBITRARY, dtype: int64"
      ]
     },
     "execution_count": 34,
     "metadata": {},
     "output_type": "execute_result"
    }
   ],
   "source": [
    "train['COMPONENT_ARBITRARY'].value_counts()"
   ]
  },
  {
   "cell_type": "code",
   "execution_count": 35,
   "id": "8bb85809-14e0-4563-b598-30554d5351b6",
   "metadata": {},
   "outputs": [],
   "source": [
    "component_mapping={\"COMPONENT1\":1, \"COMPONENT2\":2, \"COMPONENT3\":3, \"COMPONENT4\":4}\n",
    "\n",
    "train['COMPONENT_ARBITRARY'] = train['COMPONENT_ARBITRARY'].map(component_mapping)\n",
    "test['COMPONENT_ARBITRARY'] = test['COMPONENT_ARBITRARY'].map(component_mapping)"
   ]
  },
  {
   "cell_type": "code",
   "execution_count": 36,
   "id": "e6a4952c-51fd-4966-aadd-5debfa5d09a9",
   "metadata": {},
   "outputs": [
    {
     "data": {
      "text/plain": [
       "3    7050\n",
       "1    3890\n",
       "2    2316\n",
       "4     839\n",
       "Name: COMPONENT_ARBITRARY, dtype: int64"
      ]
     },
     "execution_count": 36,
     "metadata": {},
     "output_type": "execute_result"
    }
   ],
   "source": [
    "train['COMPONENT_ARBITRARY'].value_counts()"
   ]
  },
  {
   "cell_type": "code",
   "execution_count": 37,
   "id": "6ef7c098-2ab0-4b5d-bb4a-67328d4ff23b",
   "metadata": {},
   "outputs": [
    {
     "data": {
      "text/plain": [
       "<seaborn.axisgrid.FacetGrid at 0x1033f5840>"
      ]
     },
     "execution_count": 37,
     "metadata": {},
     "output_type": "execute_result"
    },
    {
     "data": {
      "image/png": "[encoded data removed]",
      "text/plain": [
       "<Figure size 600x300 with 2 Axes>"
      ]
     },
     "metadata": {},
     "output_type": "display_data"
    }
   ],
   "source": [
    "# 오일 샘플 진단에 따른 정상 여부\n",
    "g = sns.FacetGrid(train, col='Y_LABEL')\n",
    "# 히스토그램으로 시각화, 연령의 분포를 확인, 히스토그램 bin을 20개로 설정\n",
    "g.map(plt.hist, 'YEAR', bins=30)"
   ]
  },
  {
   "cell_type": "code",
   "execution_count": 91,
   "id": "10dd9c43-356f-43c4-b152-645d4f830103",
   "metadata": {},
   "outputs": [
    {
     "data": {
      "text/plain": [
       "<seaborn.axisgrid.FacetGrid at 0x28479c460>"
      ]
     },
     "execution_count": 91,
     "metadata": {},
     "output_type": "execute_result"
    },
    {
     "data": {
      "image/png": "[encoded data removed]",
      "text/plain": [
       "<Figure size 600x300 with 2 Axes>"
      ]
     },
     "metadata": {},
     "output_type": "display_data"
    }
   ],
   "source": [
    "# 년도와는 전혀 관련 없네,,,,,,,주여,,,\n",
    "# AG, AL, B, BA, BE, CA, CD, CO, CR, CU, K, LI, MG, MN, MO, NA, NI, P, PB, S, SB, SI, SN, TI, V, ZN, FUEL\n",
    "# 위의 각종 원소에 따른 정상여부 하나씩 다해보기,단위 PPM\n",
    "\n",
    "# 오일 샘플 진단에 따른 정상 여부B\n",
    "g = sns.FacetGrid(train, col='Y_LABEL')\n",
    "g.map(plt.hist, 'ZN', bins=100)\n",
    "# 원소 함유에서 유의미한 결과를 도출하진 못함"
   ]
  },
  {
   "cell_type": "code",
   "execution_count": 74,
   "id": "d3f18508-1ad5-4b63-a4c6-cc22c65e9bd0",
   "metadata": {},
   "outputs": [
    {
     "data": {
      "text/plain": [
       "<seaborn.axisgrid.FacetGrid at 0x177f3f340>"
      ]
     },
     "execution_count": 74,
     "metadata": {},
     "output_type": "execute_result"
    },
    {
     "data": {
      "image/png": "[encoded data removed]",
      "text/plain": [
       "<Figure size 600x300 with 2 Axes>"
      ]
     },
     "metadata": {},
     "output_type": "display_data"
    }
   ],
   "source": [
    "#Paricle count에 따른 정상여부\n",
    "#U100, U75, U50, U25, U20, U14, U6, U4\n",
    "#단위 particles/ml\n",
    "# 오일 샘플 진단에 따른 정상 여부B\n",
    "g = sns.FacetGrid(train, col='Y_LABEL')\n",
    "g.map(plt.hist, 'U4', bins=30)\n",
    "# 이것도 못찾음"
   ]
  },
  {
   "cell_type": "code",
   "execution_count": 92,
   "id": "165060eb-04c7-4afc-aa78-50323f969087",
   "metadata": {},
   "outputs": [
    {
     "data": {
      "text/plain": [
       "<seaborn.axisgrid.FacetGrid at 0x286580280>"
      ]
     },
     "execution_count": 92,
     "metadata": {},
     "output_type": "execute_result"
    },
    {
     "data": {
      "image/png": "[encoded data removed]",
      "text/plain": [
       "<Figure size 600x300 with 2 Axes>"
      ]
     },
     "metadata": {},
     "output_type": "display_data"
    }
   ],
   "source": [
    "# Viscosity에 따른 정상여부\n",
    "# V100, V40\n",
    "g = sns.FacetGrid(train, col='Y_LABEL')\n",
    "g.map(plt.hist, 'V40', bins=30)"
   ]
  },
  {
   "cell_type": "code",
   "execution_count": 93,
   "id": "9eb97dba-a284-4fba-a201-8d0d26aba71b",
   "metadata": {},
   "outputs": [
    {
     "data": {
      "text/plain": [
       "<seaborn.axisgrid.FacetGrid at 0x286714af0>"
      ]
     },
     "execution_count": 93,
     "metadata": {},
     "output_type": "execute_result"
    },
    {
     "data": {
      "image/png": "[encoded data removed]",
      "text/plain": [
       "<Figure size 600x300 with 2 Axes>"
      ]
     },
     "metadata": {},
     "output_type": "display_data"
    }
   ],
   "source": [
    "# 각종 수치에 따른 여부\n",
    "# FH2O, FNOX, FOPTIMETHGLY, FOXID, FSO4, FTBN\n",
    "g = sns.FacetGrid(train, col='Y_LABEL')\n",
    "g.map(plt.hist, 'FTBN', bins=30)"
   ]
  },
  {
   "cell_type": "code",
   "execution_count": null,
   "id": "9952cc15-344e-47dd-9124-3e950b4ebe99",
   "metadata": {},
   "outputs": [],
   "source": []
  },
  {
   "cell_type": "code",
   "execution_count": null,
   "id": "fbd94996-3c7f-44a2-b14f-80b31f436ad6",
   "metadata": {},
   "outputs": [],
   "source": []
  },
  {
   "cell_type": "code",
   "execution_count": null,
   "id": "1e1107a6-5960-4d60-8f2d-64c394501359",
   "metadata": {},
   "outputs": [],
   "source": []
  }
 ],
 "metadata": {
  "kernelspec": {
   "display_name": "Python 3 (ipykernel)",
   "language": "python",
   "name": "python3"
  },
  "language_info": {
   "codemirror_mode": {
    "name": "ipython",
    "version": 3
   },
   "file_extension": ".py",
   "mimetype": "text/x-python",
   "name": "python",
   "nbconvert_exporter": "python",
   "pygments_lexer": "ipython3",
   "version": "3.10.8"
  }
 },
 "nbformat": 4,
 "nbformat_minor": 5
}
