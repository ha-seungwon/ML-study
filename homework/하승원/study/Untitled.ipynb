{
 "cells": [
  {
   "cell_type": "markdown",
   "id": "c87e925f",
   "metadata": {},
   "source": [
    "# 1. 라이브러리 함수 호출"
   ]
  },
  {
   "cell_type": "code",
   "execution_count": 1,
   "id": "73404684",
   "metadata": {},
   "outputs": [],
   "source": [
    "import pandas as pd \n",
    "import numpy as np\n",
    "import pandas as pd\n",
    "import numpy as np\n",
    "from sklearn.datasets import load_breast_cancer\n",
    "from sklearn.model_selection import train_test_split\n",
    "from lightgbm import plot_importance\n",
    "import matplotlib.pyplot as plt\n",
    "from lightgbm import LGBMRegressor\n",
    "from lightgbm import LGBMClassifier\n",
    "from xgboost import XGBClassifier # model\n",
    "from sklearn.preprocessing import LabelEncoder"
   ]
  },
  {
   "cell_type": "markdown",
   "id": "ad3694ee",
   "metadata": {},
   "source": [
    "# 2. 함수 설정"
   ]
  },
  {
   "cell_type": "code",
   "execution_count": 2,
   "id": "d9f5adfc",
   "metadata": {},
   "outputs": [],
   "source": [
    "\n",
    "\n",
    "\n",
    "\n",
    "def label_code(dataframe,column):\n",
    "    \n",
    "    items=dataframe[column].tolist()\n",
    "    encoder = LabelEncoder()\n",
    "    encoder.fit(items)\n",
    "    dataframe[column]=encoder.transform(items)\n",
    "    return dataframe\n",
    "\n",
    "\n",
    "def time_seperate(dataframe,column):\n",
    "    y=list()\n",
    "    m=list()\n",
    "    d=list()\n",
    "    for i in dataframe[column]:\n",
    "        if i != 0:\n",
    "            time= i.split('-')\n",
    "            for j in range(len(time)):\n",
    "                if j ==0:\n",
    "                    y.append(int(time[j]))\n",
    "                elif j ==1:\n",
    "                    m.append(int(time[j]))\n",
    "                elif j ==2:\n",
    "                    d.append(int(time[j]))\n",
    "        else:\n",
    "            d.append(int(i))\n",
    "            m.append(int(i))\n",
    "            y.append(int(i))\n",
    "\n",
    "\n",
    "    dataframe[column+'-year']=y\n",
    "    dataframe[column+'-month']=m\n",
    "    dataframe[column+'-day']=d\n",
    "    return dataframe\n",
    "def get_clf_eval(y_test, y_pred=None, pred_proba=None):\n",
    "\n",
    "    accuracy = accuracy_score(y_test, y_pred)\n",
    "\n",
    "    AUC = roc_auc_score(y_test, y_pred, pred_proba)\n",
    "\n",
    "    print('오차행렬:\\n', confusion)\n",
    "    print('\\n정확도: {:.4f}'.format(accuracy))\n",
    "\n"
   ]
  },
  {
   "cell_type": "code",
   "execution_count": 3,
   "id": "0b922d34",
   "metadata": {},
   "outputs": [],
   "source": [
    "df=pd.read_csv('corporation_card_row.csv')"
   ]
  },
  {
   "cell_type": "code",
   "execution_count": 4,
   "id": "043e659a",
   "metadata": {
    "scrolled": false
   },
   "outputs": [],
   "source": [
    "df=df.drop('Unnamed: 0',axis=1)\n",
    "raw=df # 결과값 비교를 위해"
   ]
  },
  {
   "cell_type": "code",
   "execution_count": 5,
   "id": "364e0270",
   "metadata": {},
   "outputs": [],
   "source": [
    "df=df.drop(['최종 공제/불공제','코스트 센터','코스트센터명','위임자사번','원매입추심번호','카드사'],axis=1)\n",
    "raw_lable=df['계정과목']"
   ]
  },
  {
   "cell_type": "code",
   "execution_count": 6,
   "id": "a02c1129",
   "metadata": {},
   "outputs": [],
   "source": [
    "la=df.iloc[-8558:,:]\n"
   ]
  },
  {
   "cell_type": "code",
   "execution_count": 7,
   "id": "3a94ab0e",
   "metadata": {},
   "outputs": [],
   "source": [
    "df[['결제(예정)일자','가맹점사업자번호','가맹점TEL','가맹점대표자','재직구분','고용형태코드','사용자사번']]=df[['결제(예정)일자','가맹점사업자번호','가맹점TEL','가맹점대표자','재직구분','고용형태코드','사용자사번']].fillna(0)\n",
    "\n"
   ]
  },
  {
   "cell_type": "code",
   "execution_count": 8,
   "id": "2024a387",
   "metadata": {},
   "outputs": [],
   "source": [
    "df=time_seperate(df,'결제(예정)일자')\n",
    "df=time_seperate(df,'매입일자')\n",
    "df=time_seperate(df,'승인(취소)일자')\n",
    "df=df.drop(['결제(예정)일자','매입일자','승인(취소)일자'],axis=1)"
   ]
  },
  {
   "cell_type": "code",
   "execution_count": null,
   "id": "c11f4c52",
   "metadata": {},
   "outputs": [],
   "source": []
  },
  {
   "cell_type": "code",
   "execution_count": 9,
   "id": "bd448642",
   "metadata": {},
   "outputs": [],
   "source": [
    "\n",
    "df=df.fillna(0)\n"
   ]
  },
  {
   "cell_type": "code",
   "execution_count": 10,
   "id": "738d2b3d",
   "metadata": {},
   "outputs": [],
   "source": [
    "df_label=df['계정과목']\n",
    "df=label_code(df,'계정과목')"
   ]
  },
  {
   "cell_type": "code",
   "execution_count": 11,
   "id": "5259af91",
   "metadata": {},
   "outputs": [],
   "source": [
    "label=df_label.value_counts()"
   ]
  },
  {
   "cell_type": "code",
   "execution_count": 12,
   "id": "e6d92326",
   "metadata": {},
   "outputs": [],
   "source": [
    "encode_label=df['계정과목'].value_counts()\n"
   ]
  },
  {
   "cell_type": "code",
   "execution_count": 13,
   "id": "61ac9a81",
   "metadata": {},
   "outputs": [],
   "source": [
    "#가맹점TEL 전환\n",
    "#업종코드 aaaa 0으로\n",
    "df[df['가맹점TEL']=='--']\n",
    "df.loc[df['가맹점TEL'] == '--','가맹점TEL'] = 0 \n",
    "df[df['업종코드']=='AAAA']\n",
    "df.loc[df['업종코드'] == 'AAAA','업종코드'] = 0 "
   ]
  },
  {
   "cell_type": "code",
   "execution_count": 14,
   "id": "56fbc194",
   "metadata": {},
   "outputs": [],
   "source": [
    "\n",
    "for i in df:\n",
    "    if df[i].dtype =='object':\n",
    "        df=label_code(df,i)\n"
   ]
  },
  {
   "cell_type": "markdown",
   "id": "de233c38",
   "metadata": {},
   "source": [
    "# 모델선택"
   ]
  },
  {
   "cell_type": "code",
   "execution_count": null,
   "id": "5b94364a",
   "metadata": {},
   "outputs": [],
   "source": []
  },
  {
   "cell_type": "code",
   "execution_count": 15,
   "id": "4a07a5d3",
   "metadata": {},
   "outputs": [],
   "source": [
    "train_df=df.iloc[:-8558,:]\n",
    "test_df=df.iloc[-8558:,:]\n",
    "\n",
    "test_df=test_df.drop('계정과목',axis=1)\n",
    "X_train_df=train_df.drop('계정과목',axis=1)\n",
    "\n"
   ]
  },
  {
   "cell_type": "code",
   "execution_count": null,
   "id": "81a68089",
   "metadata": {},
   "outputs": [],
   "source": []
  },
  {
   "cell_type": "code",
   "execution_count": 16,
   "id": "9314f779",
   "metadata": {},
   "outputs": [],
   "source": [
    "train_df=pd.get_dummies(train_df,columns=['계정과목'])\n"
   ]
  },
  {
   "cell_type": "code",
   "execution_count": 17,
   "id": "20f486ab",
   "metadata": {},
   "outputs": [],
   "source": [
    "train_col=[]\n",
    "for i in train_df:\n",
    "    if '계정과목_' in i:\n",
    "        train_col.append(i)\n",
    "        "
   ]
  },
  {
   "cell_type": "code",
   "execution_count": 18,
   "id": "42aa22e0",
   "metadata": {},
   "outputs": [],
   "source": [
    "output_df_xg=test_df.copy()"
   ]
  },
  {
   "cell_type": "code",
   "execution_count": 19,
   "id": "0da7c1a4",
   "metadata": {},
   "outputs": [],
   "source": [
    "y_train=train_df['계정과목_0']"
   ]
  },
  {
   "cell_type": "markdown",
   "id": "86acc4fe",
   "metadata": {},
   "source": [
    "# xgb\n"
   ]
  },
  {
   "cell_type": "code",
   "execution_count": 20,
   "id": "0b7eec03",
   "metadata": {},
   "outputs": [],
   "source": [
    "\n",
    "from hyperopt import hp\n",
    "\n",
    "xgb_search_space = {\n",
    "    'max_depth':hp.quniform('max_depth', 5, 20, 1),                     ## 정수형 하이퍼 파라미터 => quniform 사용\n",
    "    'min_child_weight':hp.quniform('min_child_weight', 1, 2, 1),        ## 정수형 하이퍼 파라미터 => quniform 사용\n",
    "    'learning_rate':hp.uniform('learning_rate', 0.01, 0.2),\n",
    "    'colsample_bytree':hp.uniform('colsample_bytree', 0.5, 1),\n",
    "}"
   ]
  },
  {
   "cell_type": "code",
   "execution_count": 21,
   "id": "b82a4cca",
   "metadata": {},
   "outputs": [],
   "source": [
    "from sklearn.model_selection import cross_val_score  ## 교차 검증\n",
    "from xgboost import XGBClassifier\n",
    "from hyperopt import STATUS_OK\n",
    "\n",
    "def objective_func(search_space):\n",
    "    xgb_clf = XGBClassifier(\n",
    "      n_estimators=100,\n",
    "      max_depth=int(search_space['max_depth']),                ## int형으로 형변환 필요\n",
    "      min_child_weight=int(search_space['min_child_weight']),  ## int형으로 형변환 필요\n",
    "      learning_rate=search_space['learning_rate'], \n",
    "      colsample_bytree=search_space['colsample_bytree'],\n",
    "      eval_metric='logloss')\n",
    "    accuracy = cross_val_score(xgb_clf, X_train_df, y_train, scoring='accuracy', cv=3)  ## 3개의 교차 검증 세트로 정확도 반환\n",
    "\n",
    "  ## acc는 cv=3 개수만큼의 결과를 리스트로 가짐, 이를 평균하여 반환하되, -1을 곱함\n",
    "    return {\n",
    "      'loss':(-1) * np.mean(accuracy),\n",
    "      'status':STATUS_OK}"
   ]
  },
  {
   "cell_type": "code",
   "execution_count": 22,
   "id": "e25ad727",
   "metadata": {
    "scrolled": true
   },
   "outputs": [
    {
     "name": "stdout",
     "output_type": "stream",
     "text": [
      "100%|████████| 50/50 [00:59<00:00,  1.19s/trial, best loss: -0.9999044342507645]\n"
     ]
    }
   ],
   "source": [
    "from hyperopt import fmin, tpe, Trials\n",
    "\n",
    "trial_val = Trials() ## 결과 저장\n",
    "\n",
    "best = fmin(\n",
    "    fn=objective_func,\n",
    "    space=xgb_search_space,\n",
    "    algo=tpe.suggest,\n",
    "    max_evals=50,    ## 최대 반복 횟수 지정\n",
    "    trials=trial_val,\n",
    ")\n"
   ]
  },
  {
   "cell_type": "code",
   "execution_count": 23,
   "id": "e1628c92",
   "metadata": {},
   "outputs": [
    {
     "data": {
      "text/plain": [
       "{'colsample_bytree': 0.9281669127762595,\n",
       " 'learning_rate': 0.08576227182490234,\n",
       " 'max_depth': 7.0,\n",
       " 'min_child_weight': 1.0}"
      ]
     },
     "execution_count": 23,
     "metadata": {},
     "output_type": "execute_result"
    }
   ],
   "source": [
    "best"
   ]
  },
  {
   "cell_type": "code",
   "execution_count": 24,
   "id": "5136c1c2",
   "metadata": {},
   "outputs": [],
   "source": [
    "xgb_wrapper = XGBClassifier(\n",
    "    n_estimators=400,\n",
    "    learning_rate=round(best['learning_rate'], 5),\n",
    "    max_depth=int(best['max_depth']),\n",
    "    min_child_weight=int(best['min_child_weight']),\n",
    "    colsample_bytree=round(best['colsample_bytree'], 5)\n",
    ")\n"
   ]
  },
  {
   "cell_type": "code",
   "execution_count": 25,
   "id": "74b00fd2",
   "metadata": {},
   "outputs": [],
   "source": [
    "\n",
    "output_df_xg['result']=0\n",
    "for i in train_col:\n",
    "    y_train=train_df[i]\n",
    "    xgb_wrapper.fit(X_train_df, y_train)\n",
    "    pre=xgb_wrapper.predict(test_df)\n",
    "    output_df_xg[i]=pre\n",
    "    "
   ]
  },
  {
   "cell_type": "markdown",
   "id": "9ee5f778",
   "metadata": {},
   "source": [
    "# 복수 측정된 값 찾아서 처리하기\n"
   ]
  },
  {
   "cell_type": "code",
   "execution_count": 26,
   "id": "9b4fdf72",
   "metadata": {},
   "outputs": [],
   "source": [
    "for i in output_df_xg.index:\n",
    "    row=output_df_xg.loc[i]\n",
    "    subject_codes=[]\n",
    "    for j in row.index:\n",
    "        if '계정과목_' in j:\n",
    "            if row[j]==1:\n",
    "                subject_codes.append(j.split('_')[1])\n",
    "    if len(subject_codes)==0:\n",
    "        output_df_xg.loc[i,'result']=999\n",
    "    elif len(subject_codes)==1:\n",
    "        output_df_xg.loc[i,'result']=subject_codes[0]\n",
    "    elif len(subject_codes)>=2:\n",
    "        output_df_xg.loc[i,'result']=','.join(subject_codes)\n",
    "            \n",
    "\n"
   ]
  },
  {
   "cell_type": "code",
   "execution_count": 27,
   "id": "f4889390",
   "metadata": {},
   "outputs": [
    {
     "data": {
      "text/plain": [
       "array(['24', '44', '10', '5', '1', '16', '2', '22', '13', '14', '55',\n",
       "       '11', '41', '59', '62', '17', '54', '4', '50', '32', '48', '49',\n",
       "       '42', '21', '56', '36', '33', '3', 999, '37', '46', '65', '39',\n",
       "       '47', '63', '20', '27', '25', '38', '32,33', '66', '18', '65,66'],\n",
       "      dtype=object)"
      ]
     },
     "execution_count": 27,
     "metadata": {},
     "output_type": "execute_result"
    }
   ],
   "source": [
    "output_df_xg['result'].unique()"
   ]
  },
  {
   "cell_type": "markdown",
   "id": "50229945",
   "metadata": {},
   "source": [
    "# 데이터 프레임 라벨링 코딩한거 다니 역치환"
   ]
  },
  {
   "cell_type": "code",
   "execution_count": 28,
   "id": "c5625e3b",
   "metadata": {},
   "outputs": [],
   "source": [
    "for i in output_df_xg:\n",
    "    if '계정과목_' in i:\n",
    "        #split_col=i.split('_')\n",
    "        #output_df_xg.loc[output_df_xg[i] == 1,'result'] = int(split_col[1])\n",
    "        output_df_xg=output_df_xg.drop(i,axis=1)\n"
   ]
  },
  {
   "cell_type": "code",
   "execution_count": 29,
   "id": "b99bbd6c",
   "metadata": {
    "scrolled": true
   },
   "outputs": [
    {
     "data": {
      "text/html": [
       "<div>\n",
       "<style scoped>\n",
       "    .dataframe tbody tr th:only-of-type {\n",
       "        vertical-align: middle;\n",
       "    }\n",
       "\n",
       "    .dataframe tbody tr th {\n",
       "        vertical-align: top;\n",
       "    }\n",
       "\n",
       "    .dataframe thead th {\n",
       "        text-align: right;\n",
       "    }\n",
       "</style>\n",
       "<table border=\"1\" class=\"dataframe\">\n",
       "  <thead>\n",
       "    <tr style=\"text-align: right;\">\n",
       "      <th></th>\n",
       "      <th>소유자명</th>\n",
       "      <th>사용자사번</th>\n",
       "      <th>고용형태코드</th>\n",
       "      <th>재직구분</th>\n",
       "      <th>카드번호</th>\n",
       "      <th>승인번호</th>\n",
       "      <th>승인구분</th>\n",
       "      <th>법인카드증빙일련번호</th>\n",
       "      <th>승인시간(취소)</th>\n",
       "      <th>총금액</th>\n",
       "      <th>...</th>\n",
       "      <th>결제(예정)일자-year</th>\n",
       "      <th>결제(예정)일자-month</th>\n",
       "      <th>결제(예정)일자-day</th>\n",
       "      <th>매입일자-year</th>\n",
       "      <th>매입일자-month</th>\n",
       "      <th>매입일자-day</th>\n",
       "      <th>승인(취소)일자-year</th>\n",
       "      <th>승인(취소)일자-month</th>\n",
       "      <th>승인(취소)일자-day</th>\n",
       "      <th>result</th>\n",
       "    </tr>\n",
       "  </thead>\n",
       "  <tbody>\n",
       "    <tr>\n",
       "      <th>20926</th>\n",
       "      <td>244</td>\n",
       "      <td>2023</td>\n",
       "      <td>2</td>\n",
       "      <td>1</td>\n",
       "      <td>5589789900001096</td>\n",
       "      <td>55862687</td>\n",
       "      <td>0</td>\n",
       "      <td>20866</td>\n",
       "      <td>2234</td>\n",
       "      <td>47320</td>\n",
       "      <td>...</td>\n",
       "      <td>2022</td>\n",
       "      <td>3</td>\n",
       "      <td>23</td>\n",
       "      <td>2022</td>\n",
       "      <td>2</td>\n",
       "      <td>12</td>\n",
       "      <td>2022</td>\n",
       "      <td>2</td>\n",
       "      <td>11</td>\n",
       "      <td>24</td>\n",
       "    </tr>\n",
       "    <tr>\n",
       "      <th>20927</th>\n",
       "      <td>1256</td>\n",
       "      <td>229</td>\n",
       "      <td>2</td>\n",
       "      <td>1</td>\n",
       "      <td>5589789900002136</td>\n",
       "      <td>46857956</td>\n",
       "      <td>0</td>\n",
       "      <td>20867</td>\n",
       "      <td>6205</td>\n",
       "      <td>71000</td>\n",
       "      <td>...</td>\n",
       "      <td>2022</td>\n",
       "      <td>3</td>\n",
       "      <td>23</td>\n",
       "      <td>2022</td>\n",
       "      <td>2</td>\n",
       "      <td>12</td>\n",
       "      <td>2022</td>\n",
       "      <td>2</td>\n",
       "      <td>11</td>\n",
       "      <td>44</td>\n",
       "    </tr>\n",
       "    <tr>\n",
       "      <th>20928</th>\n",
       "      <td>1300</td>\n",
       "      <td>1007</td>\n",
       "      <td>2</td>\n",
       "      <td>1</td>\n",
       "      <td>5531760001505755</td>\n",
       "      <td>77997353</td>\n",
       "      <td>0</td>\n",
       "      <td>20868</td>\n",
       "      <td>11550</td>\n",
       "      <td>265000</td>\n",
       "      <td>...</td>\n",
       "      <td>2022</td>\n",
       "      <td>3</td>\n",
       "      <td>23</td>\n",
       "      <td>2022</td>\n",
       "      <td>2</td>\n",
       "      <td>12</td>\n",
       "      <td>2022</td>\n",
       "      <td>2</td>\n",
       "      <td>11</td>\n",
       "      <td>44</td>\n",
       "    </tr>\n",
       "    <tr>\n",
       "      <th>20929</th>\n",
       "      <td>384</td>\n",
       "      <td>1868</td>\n",
       "      <td>2</td>\n",
       "      <td>1</td>\n",
       "      <td>5531760001062732</td>\n",
       "      <td>61561484</td>\n",
       "      <td>0</td>\n",
       "      <td>20869</td>\n",
       "      <td>4465</td>\n",
       "      <td>13000</td>\n",
       "      <td>...</td>\n",
       "      <td>2022</td>\n",
       "      <td>3</td>\n",
       "      <td>23</td>\n",
       "      <td>2022</td>\n",
       "      <td>2</td>\n",
       "      <td>12</td>\n",
       "      <td>2022</td>\n",
       "      <td>2</td>\n",
       "      <td>11</td>\n",
       "      <td>10</td>\n",
       "    </tr>\n",
       "    <tr>\n",
       "      <th>20930</th>\n",
       "      <td>1390</td>\n",
       "      <td>1560</td>\n",
       "      <td>2</td>\n",
       "      <td>1</td>\n",
       "      <td>5531760000632246</td>\n",
       "      <td>3634825</td>\n",
       "      <td>0</td>\n",
       "      <td>20870</td>\n",
       "      <td>6104</td>\n",
       "      <td>76200</td>\n",
       "      <td>...</td>\n",
       "      <td>2022</td>\n",
       "      <td>3</td>\n",
       "      <td>23</td>\n",
       "      <td>2022</td>\n",
       "      <td>2</td>\n",
       "      <td>12</td>\n",
       "      <td>2022</td>\n",
       "      <td>2</td>\n",
       "      <td>11</td>\n",
       "      <td>5</td>\n",
       "    </tr>\n",
       "    <tr>\n",
       "      <th>...</th>\n",
       "      <td>...</td>\n",
       "      <td>...</td>\n",
       "      <td>...</td>\n",
       "      <td>...</td>\n",
       "      <td>...</td>\n",
       "      <td>...</td>\n",
       "      <td>...</td>\n",
       "      <td>...</td>\n",
       "      <td>...</td>\n",
       "      <td>...</td>\n",
       "      <td>...</td>\n",
       "      <td>...</td>\n",
       "      <td>...</td>\n",
       "      <td>...</td>\n",
       "      <td>...</td>\n",
       "      <td>...</td>\n",
       "      <td>...</td>\n",
       "      <td>...</td>\n",
       "      <td>...</td>\n",
       "      <td>...</td>\n",
       "      <td>...</td>\n",
       "    </tr>\n",
       "    <tr>\n",
       "      <th>29479</th>\n",
       "      <td>1123</td>\n",
       "      <td>285</td>\n",
       "      <td>2</td>\n",
       "      <td>1</td>\n",
       "      <td>5105540000259786</td>\n",
       "      <td>67270015</td>\n",
       "      <td>0</td>\n",
       "      <td>29367</td>\n",
       "      <td>7139</td>\n",
       "      <td>9200</td>\n",
       "      <td>...</td>\n",
       "      <td>2022</td>\n",
       "      <td>3</td>\n",
       "      <td>23</td>\n",
       "      <td>2022</td>\n",
       "      <td>3</td>\n",
       "      <td>1</td>\n",
       "      <td>2022</td>\n",
       "      <td>2</td>\n",
       "      <td>28</td>\n",
       "      <td>10</td>\n",
       "    </tr>\n",
       "    <tr>\n",
       "      <th>29480</th>\n",
       "      <td>2416</td>\n",
       "      <td>734</td>\n",
       "      <td>2</td>\n",
       "      <td>1</td>\n",
       "      <td>5105540000260446</td>\n",
       "      <td>67194022</td>\n",
       "      <td>0</td>\n",
       "      <td>29368</td>\n",
       "      <td>1698</td>\n",
       "      <td>28800</td>\n",
       "      <td>...</td>\n",
       "      <td>2022</td>\n",
       "      <td>3</td>\n",
       "      <td>23</td>\n",
       "      <td>2022</td>\n",
       "      <td>3</td>\n",
       "      <td>2</td>\n",
       "      <td>2022</td>\n",
       "      <td>2</td>\n",
       "      <td>28</td>\n",
       "      <td>24</td>\n",
       "    </tr>\n",
       "    <tr>\n",
       "      <th>29481</th>\n",
       "      <td>1355</td>\n",
       "      <td>749</td>\n",
       "      <td>2</td>\n",
       "      <td>1</td>\n",
       "      <td>5105540000263820</td>\n",
       "      <td>43028048</td>\n",
       "      <td>0</td>\n",
       "      <td>29369</td>\n",
       "      <td>6466</td>\n",
       "      <td>103000</td>\n",
       "      <td>...</td>\n",
       "      <td>2022</td>\n",
       "      <td>3</td>\n",
       "      <td>23</td>\n",
       "      <td>2022</td>\n",
       "      <td>3</td>\n",
       "      <td>1</td>\n",
       "      <td>2022</td>\n",
       "      <td>2</td>\n",
       "      <td>28</td>\n",
       "      <td>10</td>\n",
       "    </tr>\n",
       "    <tr>\n",
       "      <th>29482</th>\n",
       "      <td>1752</td>\n",
       "      <td>765</td>\n",
       "      <td>2</td>\n",
       "      <td>1</td>\n",
       "      <td>5105540000264349</td>\n",
       "      <td>24225060</td>\n",
       "      <td>0</td>\n",
       "      <td>29370</td>\n",
       "      <td>16250</td>\n",
       "      <td>12500</td>\n",
       "      <td>...</td>\n",
       "      <td>2022</td>\n",
       "      <td>3</td>\n",
       "      <td>23</td>\n",
       "      <td>2022</td>\n",
       "      <td>3</td>\n",
       "      <td>1</td>\n",
       "      <td>2022</td>\n",
       "      <td>2</td>\n",
       "      <td>28</td>\n",
       "      <td>2</td>\n",
       "    </tr>\n",
       "    <tr>\n",
       "      <th>29483</th>\n",
       "      <td>2101</td>\n",
       "      <td>0</td>\n",
       "      <td>0</td>\n",
       "      <td>0</td>\n",
       "      <td>9410854261058800</td>\n",
       "      <td>20220310</td>\n",
       "      <td>0</td>\n",
       "      <td>29371</td>\n",
       "      <td>0</td>\n",
       "      <td>13800</td>\n",
       "      <td>...</td>\n",
       "      <td>2022</td>\n",
       "      <td>3</td>\n",
       "      <td>23</td>\n",
       "      <td>2022</td>\n",
       "      <td>3</td>\n",
       "      <td>13</td>\n",
       "      <td>2022</td>\n",
       "      <td>2</td>\n",
       "      <td>28</td>\n",
       "      <td>56</td>\n",
       "    </tr>\n",
       "  </tbody>\n",
       "</table>\n",
       "<p>8558 rows × 40 columns</p>\n",
       "</div>"
      ],
      "text/plain": [
       "       소유자명  사용자사번  고용형태코드  재직구분              카드번호      승인번호  승인구분  \\\n",
       "20926   244   2023       2     1  5589789900001096  55862687     0   \n",
       "20927  1256    229       2     1  5589789900002136  46857956     0   \n",
       "20928  1300   1007       2     1  5531760001505755  77997353     0   \n",
       "20929   384   1868       2     1  5531760001062732  61561484     0   \n",
       "20930  1390   1560       2     1  5531760000632246   3634825     0   \n",
       "...     ...    ...     ...   ...               ...       ...   ...   \n",
       "29479  1123    285       2     1  5105540000259786  67270015     0   \n",
       "29480  2416    734       2     1  5105540000260446  67194022     0   \n",
       "29481  1355    749       2     1  5105540000263820  43028048     0   \n",
       "29482  1752    765       2     1  5105540000264349  24225060     0   \n",
       "29483  2101      0       0     0  9410854261058800  20220310     0   \n",
       "\n",
       "       법인카드증빙일련번호  승인시간(취소)     총금액  ...  결제(예정)일자-year  결제(예정)일자-month  \\\n",
       "20926       20866      2234   47320  ...           2022               3   \n",
       "20927       20867      6205   71000  ...           2022               3   \n",
       "20928       20868     11550  265000  ...           2022               3   \n",
       "20929       20869      4465   13000  ...           2022               3   \n",
       "20930       20870      6104   76200  ...           2022               3   \n",
       "...           ...       ...     ...  ...            ...             ...   \n",
       "29479       29367      7139    9200  ...           2022               3   \n",
       "29480       29368      1698   28800  ...           2022               3   \n",
       "29481       29369      6466  103000  ...           2022               3   \n",
       "29482       29370     16250   12500  ...           2022               3   \n",
       "29483       29371         0   13800  ...           2022               3   \n",
       "\n",
       "       결제(예정)일자-day  매입일자-year  매입일자-month  매입일자-day  승인(취소)일자-year  \\\n",
       "20926            23       2022           2        12           2022   \n",
       "20927            23       2022           2        12           2022   \n",
       "20928            23       2022           2        12           2022   \n",
       "20929            23       2022           2        12           2022   \n",
       "20930            23       2022           2        12           2022   \n",
       "...             ...        ...         ...       ...            ...   \n",
       "29479            23       2022           3         1           2022   \n",
       "29480            23       2022           3         2           2022   \n",
       "29481            23       2022           3         1           2022   \n",
       "29482            23       2022           3         1           2022   \n",
       "29483            23       2022           3        13           2022   \n",
       "\n",
       "       승인(취소)일자-month  승인(취소)일자-day  result  \n",
       "20926               2            11      24  \n",
       "20927               2            11      44  \n",
       "20928               2            11      44  \n",
       "20929               2            11      10  \n",
       "20930               2            11       5  \n",
       "...               ...           ...     ...  \n",
       "29479               2            28      10  \n",
       "29480               2            28      24  \n",
       "29481               2            28      10  \n",
       "29482               2            28       2  \n",
       "29483               2            28      56  \n",
       "\n",
       "[8558 rows x 40 columns]"
      ]
     },
     "execution_count": 29,
     "metadata": {},
     "output_type": "execute_result"
    }
   ],
   "source": [
    "data=output_df_xg.copy()\n",
    "data"
   ]
  },
  {
   "cell_type": "code",
   "execution_count": 30,
   "id": "e4511b3a",
   "metadata": {},
   "outputs": [
    {
     "name": "stdout",
     "output_type": "stream",
     "text": [
      "999\n",
      "999\n",
      "999\n",
      "999\n",
      "999\n",
      "999\n",
      "999\n",
      "999\n",
      "999\n",
      "999\n",
      "999\n",
      "999\n",
      "999\n",
      "999\n",
      "999\n",
      "999\n",
      "999\n",
      "999\n",
      "999\n",
      "999\n",
      "999\n",
      "999\n",
      "999\n",
      "999\n",
      "999\n",
      "999\n",
      "999\n",
      "32,33\n",
      "32,33\n",
      "999\n",
      "999\n",
      "999\n",
      "999\n",
      "999\n",
      "999\n",
      "999\n",
      "999\n",
      "65,66\n",
      "65,66\n",
      "65,66\n"
     ]
    }
   ],
   "source": [
    "output_df_xg=data\n",
    "temp=[0 for _ in range(len(encode_label))]\n",
    "\n",
    "for i in range(len(encode_label.index)):\n",
    "    temp[encode_label.index[i]]=label.index[i]\n",
    "    \n",
    "\n",
    "for i in output_df_xg.index:\n",
    "    x=output_df_xg.loc[i]['result']\n",
    "    x=str(x)\n",
    "    if ',' in x:\n",
    "        print(x)\n",
    "        '''\n",
    "        temp_re=x.split(',')\n",
    "        temp_=[]\n",
    "        for i in temp_re:\n",
    "            temp_.append(str(temp[int(i)]))\n",
    "        print(i,temp_)\n",
    "        output_df_xg.loc[i,'result']=','.join(temp_) \n",
    "        '''\n",
    "    elif '999' in x:\n",
    "        print(x)\n",
    "    else:\n",
    "        output_df_xg.loc[i,'result']=str(temp[int(x)])"
   ]
  },
  {
   "cell_type": "code",
   "execution_count": 31,
   "id": "888a5181",
   "metadata": {},
   "outputs": [
    {
     "data": {
      "text/plain": [
       "array(['530307050', '531701010', '530301210', '530301080', '530301010',\n",
       "       '530305030', '530301020', '530307020', '530305001', '530305010',\n",
       "       '531719020', '530301250', '530781775', '531725001', '531725775',\n",
       "       '530305040', '531719001', '530301050', '531707775', '530725020',\n",
       "       '531707001', '531707020', '530901010', '530307010', '531719775',\n",
       "       '530781010', '530725030', '530301030', 999, '530781030',\n",
       "       '531703010', '531729020', '530781070', '531705020', '531727010',\n",
       "       '530307001', '530717010', '530307060', '530781050', '32,33',\n",
       "       '531729775', '530305050', '65,66'], dtype=object)"
      ]
     },
     "execution_count": 31,
     "metadata": {},
     "output_type": "execute_result"
    }
   ],
   "source": [
    "output_df_xg['result'].unique()"
   ]
  },
  {
   "cell_type": "code",
   "execution_count": 38,
   "id": "21dc707b",
   "metadata": {},
   "outputs": [
    {
     "ename": "NameError",
     "evalue": "name 'raw_label' is not defined",
     "output_type": "error",
     "traceback": [
      "\u001b[0;31m---------------------------------------------------------------------------\u001b[0m",
      "\u001b[0;31mNameError\u001b[0m                                 Traceback (most recent call last)",
      "Input \u001b[0;32mIn [38]\u001b[0m, in \u001b[0;36m<cell line: 1>\u001b[0;34m()\u001b[0m\n\u001b[0;32m----> 1\u001b[0m \u001b[43mraw_label\u001b[49m\n",
      "\u001b[0;31mNameError\u001b[0m: name 'raw_label' is not defined"
     ]
    }
   ],
   "source": [
    "raw_label"
   ]
  },
  {
   "cell_type": "markdown",
   "id": "338f072e",
   "metadata": {},
   "source": [
    "# 결과\n"
   ]
  },
  {
   "cell_type": "code",
   "execution_count": 32,
   "id": "fcae7c2a",
   "metadata": {},
   "outputs": [
    {
     "data": {
      "text/plain": [
       "531729020"
      ]
     },
     "execution_count": 32,
     "metadata": {},
     "output_type": "execute_result"
    }
   ],
   "source": [
    "temp[65]"
   ]
  },
  {
   "cell_type": "code",
   "execution_count": 33,
   "id": "045c7979",
   "metadata": {},
   "outputs": [
    {
     "data": {
      "text/plain": [
       "531729775"
      ]
     },
     "execution_count": 33,
     "metadata": {},
     "output_type": "execute_result"
    }
   ],
   "source": [
    "temp[66]"
   ]
  },
  {
   "cell_type": "code",
   "execution_count": 34,
   "id": "49fa7c04",
   "metadata": {},
   "outputs": [],
   "source": [
    "output_df_xg.to_csv('result_xg.csv')"
   ]
  },
  {
   "cell_type": "code",
   "execution_count": 35,
   "id": "6fdac9e0",
   "metadata": {},
   "outputs": [
    {
     "ename": "NameError",
     "evalue": "name 'output_df' is not defined",
     "output_type": "error",
     "traceback": [
      "\u001b[0;31m---------------------------------------------------------------------------\u001b[0m",
      "\u001b[0;31mNameError\u001b[0m                                 Traceback (most recent call last)",
      "Input \u001b[0;32mIn [35]\u001b[0m, in \u001b[0;36m<cell line: 1>\u001b[0;34m()\u001b[0m\n\u001b[0;32m----> 1\u001b[0m \u001b[43moutput_df\u001b[49m\u001b[38;5;241m.\u001b[39mto_csv(\u001b[38;5;124m'\u001b[39m\u001b[38;5;124mresult.csv\u001b[39m\u001b[38;5;124m'\u001b[39m)\n",
      "\u001b[0;31mNameError\u001b[0m: name 'output_df' is not defined"
     ]
    }
   ],
   "source": [
    "output_df.to_csv('result.csv')"
   ]
  },
  {
   "cell_type": "code",
   "execution_count": null,
   "id": "e69a3c96",
   "metadata": {},
   "outputs": [],
   "source": [
    "x=la['계정과목']"
   ]
  },
  {
   "cell_type": "code",
   "execution_count": null,
   "id": "b1fd2bde",
   "metadata": {},
   "outputs": [],
   "source": [
    "y=output_df_xg['result']"
   ]
  },
  {
   "cell_type": "code",
   "execution_count": null,
   "id": "62d5ae60",
   "metadata": {},
   "outputs": [],
   "source": [
    "error=pd.DataFrame(x-y,columns=['error'])"
   ]
  },
  {
   "cell_type": "code",
   "execution_count": null,
   "id": "762c4450",
   "metadata": {},
   "outputs": [],
   "source": [
    "100-(len(error[error['error']!=0])/len(error['error']))*100"
   ]
  },
  {
   "cell_type": "code",
   "execution_count": null,
   "id": "144405ce",
   "metadata": {},
   "outputs": [],
   "source": [
    "len(error[error['error']!=0])"
   ]
  },
  {
   "cell_type": "markdown",
   "id": "5d903f80",
   "metadata": {},
   "source": [
    "# 에러 잡는법 생각하기"
   ]
  },
  {
   "cell_type": "code",
   "execution_count": null,
   "id": "91d649dc",
   "metadata": {},
   "outputs": [],
   "source": [
    "result=[]\n",
    "for i in output_df.index:\n",
    "    x=output_df.loc[i]\n",
    "    temp=[]\n",
    "    for j in range(len(x)):\n",
    "        if j >= 40:\n",
    "            temp.append(x[j])\n",
    "    result.append(temp)\n",
    "count=[]\n",
    "for i in range(len(result)):\n",
    "    value=0\n",
    "    for j in range(len(result[0])):\n",
    "        if result[i][j]==1.0:\n",
    "            value+=1\n",
    "    count.append(value)\n",
    "        \n",
    "#40~106\n",
    "\n",
    "v=[]\n",
    "for i in range(len(count)):\n",
    "    if count[i] >=2:\n",
    "        if count[i]>=3:\n",
    "            print(i,'!!!')\n",
    "        v.append(i)\n",
    "\n",
    "        \n",
    "        \n",
    "error_=output_df.iloc[v]\n",
    "for i in error_:\n",
    "    if '계정과목_' in i:\n",
    "        "
   ]
  }
 ],
 "metadata": {
  "kernelspec": {
   "display_name": "Python 3 (ipykernel)",
   "language": "python",
   "name": "python3"
  },
  "language_info": {
   "codemirror_mode": {
    "name": "ipython",
    "version": 3
   },
   "file_extension": ".py",
   "mimetype": "text/x-python",
   "name": "python",
   "nbconvert_exporter": "python",
   "pygments_lexer": "ipython3",
   "version": "3.9.13"
  }
 },
 "nbformat": 4,
 "nbformat_minor": 5
}
